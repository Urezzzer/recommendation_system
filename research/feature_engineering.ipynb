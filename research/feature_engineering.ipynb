{
 "cells": [
  {
   "cell_type": "code",
   "execution_count": 2,
   "outputs": [],
   "source": [
    "import pandas as pd\n",
    "import numpy as np\n",
    "from datetime import datetime\n",
    "from datetime import timedelta\n",
    "from tqdm.auto import tqdm\n",
    "tqdm.pandas()\n",
    "\n",
    "from russian_names import RussianNames\n",
    "import matplotlib.pyplot as plt\n"
   ],
   "metadata": {
    "collapsed": false,
    "ExecuteTime": {
     "start_time": "2023-05-27T22:09:04.341600Z",
     "end_time": "2023-05-27T22:09:05.071412Z"
    }
   }
  },
  {
   "cell_type": "code",
   "execution_count": 10,
   "outputs": [],
   "source": [
    "users = pd.read_csv('research/processed_data_1_stage/users.csv', sep=';')\n",
    "groups = pd.read_csv('research/processed_data_1_stage/groups.csv', sep=';')\n",
    "attend = pd.read_csv('research/processed_data_1_stage/attend.csv', sep=';')\n",
    "test = pd.read_csv('research/raw_data/test.csv')\n",
    "group_to_recommend = pd.read_csv('research/raw_data/group_list_to_recommend.csv', header=None)"
   ],
   "metadata": {
    "collapsed": false,
    "ExecuteTime": {
     "start_time": "2023-05-27T22:20:51.353751Z",
     "end_time": "2023-05-27T22:20:56.221385Z"
    }
   }
  },
  {
   "cell_type": "code",
   "execution_count": 11,
   "outputs": [],
   "source": [
    "weekday_to_number = {'Пн': 0,\n",
    "                    'Вт': 1,\n",
    "                    'Ср': 2,\n",
    "                    'Чт': 3,\n",
    "                    'Пт': 4,\n",
    "                    'Сб': 5,\n",
    "                    'Вс': 6}\n",
    "number_to_weekday = {0: 'Пн',\n",
    "                    1: 'Вт',\n",
    "                    2: 'Ср',\n",
    "                    3: 'Чт',\n",
    "                    4: 'Пт',\n",
    "                    5: 'Сб',\n",
    "                    6: 'Вс'}"
   ],
   "metadata": {
    "collapsed": false,
    "ExecuteTime": {
     "start_time": "2023-05-27T22:20:56.222381Z",
     "end_time": "2023-05-27T22:20:56.236451Z"
    }
   }
  },
  {
   "cell_type": "code",
   "execution_count": 12,
   "outputs": [],
   "source": [
    "# определение активных групп. Будем считать активными те группы, на которые пришел хотя бы один человек с начала года\n",
    "attend['lesson_date'] = pd.to_datetime(attend['lesson_date'])"
   ],
   "metadata": {
    "collapsed": false,
    "ExecuteTime": {
     "start_time": "2023-05-27T22:20:56.238459Z",
     "end_time": "2023-05-27T22:20:56.735117Z"
    }
   }
  },
  {
   "cell_type": "code",
   "execution_count": 13,
   "outputs": [],
   "source": [
    "users = users[users['user_id'].isin(attend['user_id'])]\n",
    "\n",
    "attend = attend[attend['user_id'].isin(users['user_id'])]\n",
    "attend = attend[attend['group_id'].isin(groups['group_id'])]"
   ],
   "metadata": {
    "collapsed": false,
    "ExecuteTime": {
     "start_time": "2023-05-27T22:20:56.737189Z",
     "end_time": "2023-05-27T22:20:57.235009Z"
    }
   }
  },
  {
   "cell_type": "code",
   "execution_count": 14,
   "outputs": [],
   "source": [
    "groups['category 1'] = groups['category 1'].str.lower().str.strip()\n",
    "groups['category 2'] = groups['category 2'].str.lower().str.strip()\n",
    "groups['name'] = groups['name'].str.lower().str.strip()\n",
    "groups['weekday_1'] = groups['weekday_1'].map(number_to_weekday)\n",
    "groups['weekday_2'] = groups['weekday_2'].map(number_to_weekday)"
   ],
   "metadata": {
    "collapsed": false,
    "ExecuteTime": {
     "start_time": "2023-05-27T22:20:57.240523Z",
     "end_time": "2023-05-27T22:20:57.297768Z"
    }
   }
  },
  {
   "cell_type": "code",
   "execution_count": 15,
   "outputs": [],
   "source": [
    "groups = groups[~groups['weekday_1'].isna()].reset_index(drop=True)"
   ],
   "metadata": {
    "collapsed": false,
    "ExecuteTime": {
     "start_time": "2023-05-27T22:20:57.298771Z",
     "end_time": "2023-05-27T22:20:57.337821Z"
    }
   }
  },
  {
   "cell_type": "code",
   "execution_count": 16,
   "outputs": [],
   "source": [
    "groups_to_backend = groups[groups.group_id.isin(group_to_recommend.values.reshape(1, -1).tolist()[0])][['group_id',\n",
    "                                                                                                        'category 1',\n",
    "                                                                                                        'category 2',\n",
    "                                                                                                        'name',\n",
    "                                                                                                        'district',\n",
    "                                                                                                        'region',\n",
    "                                                                                                        'street',\n",
    "                                                                                                        'home',\n",
    "                                                                                                        'online',\n",
    "                                                                                                        'description',\n",
    "                                                                                                        'weekday_1',\n",
    "                                                                                                        'weekday_2',\n",
    "                                                                                                        'active_shedule']].copy()"
   ],
   "metadata": {
    "collapsed": false,
    "ExecuteTime": {
     "start_time": "2023-05-27T22:20:57.665349Z",
     "end_time": "2023-05-27T22:20:57.703509Z"
    }
   }
  },
  {
   "cell_type": "code",
   "execution_count": 17,
   "outputs": [],
   "source": [
    "locations = groups_to_backend[['district', 'region']].drop_duplicates()\n",
    "categories = groups_to_backend[['category 1', 'category 2', 'name']].drop_duplicates()"
   ],
   "metadata": {
    "collapsed": false,
    "ExecuteTime": {
     "start_time": "2023-05-27T22:20:59.463106Z",
     "end_time": "2023-05-27T22:20:59.482691Z"
    }
   }
  },
  {
   "cell_type": "code",
   "execution_count": 18,
   "outputs": [],
   "source": [
    "groups_to_backend.to_csv('research/backend_data/groups.csv', sep=';', index=False)\n",
    "locations.to_csv('research/backend_data/locations.csv', sep=';', index=False)\n",
    "categories.to_csv('research/backend_data/categories.csv', sep=';', index=False)"
   ],
   "metadata": {
    "collapsed": false,
    "ExecuteTime": {
     "start_time": "2023-05-27T22:20:59.832452Z",
     "end_time": "2023-05-27T22:20:59.870499Z"
    }
   }
  },
  {
   "cell_type": "markdown",
   "source": [
    "# Data Transforming"
   ],
   "metadata": {
    "collapsed": false
   }
  },
  {
   "cell_type": "code",
   "execution_count": 22,
   "outputs": [],
   "source": [
    "rare_regions = {'поселение михайлово-ярцевское': 'поселение вороновское',\n",
    " 'поселение киевский': 'поселение вороновское',\n",
    " 'поселение \"мосрентген\"': 'теплый стан',\n",
    " 'поселение кокошкино':'поселение вороновское',\n",
    " 'поселение роговское':'поселение вороновское',\n",
    " 'поселение новофедоровское':'поселение вороновское',\n",
    " 'поселение марушкинское': 'поселение вороновское',\n",
    " 'поселение краснопахорское': 'поселение вороновское',\n",
    " 'поселение кленовское': 'поселение вороновское',\n",
    "                'вание савелки': 'савелки'}\n",
    "groups['region'] = groups['region'].apply(lambda x: rare_regions[x] if x in rare_regions.keys() else x)"
   ],
   "metadata": {
    "collapsed": false,
    "ExecuteTime": {
     "start_time": "2023-05-27T11:06:05.441223Z",
     "end_time": "2023-05-27T11:06:05.456872Z"
    }
   }
  },
  {
   "cell_type": "code",
   "execution_count": 23,
   "outputs": [],
   "source": [
    "rare_categories_1 = {'Спецпроект / Интеллектуальный клуб': 'Игры',\n",
    "                    'Спецпроект / Серебряный университет': 'Образование',\n",
    "                    'Спецпроект / Московский театрал\"': 'Творчество',\n",
    "                    'Спецпроект / Тренировки долголетия (спецпроект по медицинской реабилитации)':'Физическая активность'\n",
    "                    }\n",
    "groups['category 1'] = groups['category 1'].apply(lambda x: rare_categories_1[x] if x in rare_categories_1.keys() else x)"
   ],
   "metadata": {
    "collapsed": false,
    "ExecuteTime": {
     "start_time": "2023-05-27T11:06:05.801086Z",
     "end_time": "2023-05-27T11:06:05.829467Z"
    }
   }
  },
  {
   "cell_type": "code",
   "execution_count": 24,
   "outputs": [],
   "source": [
    "groups['delta'] = (groups['delta_2'].fillna(0) + groups['delta_1']) / 2\n",
    "groups['start_hour'] = (groups['start_hour_2'].fillna(0) + groups['start_hour_1']) / 2\n",
    "groups['finish_hour'] = (groups['finish_hour_2'].fillna(0) + groups['finish_hour_1']) / 2"
   ],
   "metadata": {
    "collapsed": false,
    "ExecuteTime": {
     "start_time": "2023-05-27T11:06:06.319203Z",
     "end_time": "2023-05-27T11:06:06.334831Z"
    }
   }
  },
  {
   "cell_type": "code",
   "execution_count": 25,
   "outputs": [],
   "source": [
    "groups = groups[groups['category 1'] != 'центры московского долголетия']\n",
    "groups = groups[['group_id', 'category 1', 'category 2', 'name', 'district', 'region',\n",
    "                 'online', 'marker', 'topic', 'weekday_1', 'delta', 'weekday_2',\n",
    "                 'start_hour', 'finish_hour']]"
   ],
   "metadata": {
    "collapsed": false,
    "ExecuteTime": {
     "start_time": "2023-05-27T11:06:06.725461Z",
     "end_time": "2023-05-27T11:06:06.756962Z"
    }
   }
  },
  {
   "cell_type": "markdown",
   "source": [
    "### Filling NaNs"
   ],
   "metadata": {
    "collapsed": false
   }
  },
  {
   "cell_type": "code",
   "execution_count": 26,
   "outputs": [],
   "source": [
    "users = users[['user_id', 'sex', 'age', 'active_in_months', 'active_in_years', 'user_district', 'user_region']]"
   ],
   "metadata": {
    "collapsed": false,
    "ExecuteTime": {
     "start_time": "2023-05-27T11:06:07.948585Z",
     "end_time": "2023-05-27T11:06:07.964210Z"
    }
   }
  },
  {
   "cell_type": "code",
   "execution_count": 27,
   "outputs": [],
   "source": [
    "attend['lesson_weekday'] = attend['lesson_weekday'].map(number_to_weekday)"
   ],
   "metadata": {
    "collapsed": false,
    "ExecuteTime": {
     "start_time": "2023-05-27T11:06:08.410556Z",
     "end_time": "2023-05-27T11:06:08.520107Z"
    }
   }
  },
  {
   "cell_type": "code",
   "execution_count": 28,
   "outputs": [],
   "source": [
    "attend = attend[['group_id', 'user_id', 'lesson_date','lesson_weekday', 'delta', 'start_hour', 'finish_hour']]"
   ],
   "metadata": {
    "collapsed": false,
    "ExecuteTime": {
     "start_time": "2023-05-27T11:06:09.021449Z",
     "end_time": "2023-05-27T11:06:09.178138Z"
    }
   }
  },
  {
   "cell_type": "code",
   "execution_count": 29,
   "outputs": [],
   "source": [
    "grouped_attend = attend.groupby(by=['user_id', 'group_id'], as_index=False)[['user_id', 'group_id']].first()"
   ],
   "metadata": {
    "collapsed": false,
    "ExecuteTime": {
     "start_time": "2023-05-27T11:06:09.490641Z",
     "end_time": "2023-05-27T11:06:10.233608Z"
    }
   }
  },
  {
   "cell_type": "code",
   "execution_count": 30,
   "outputs": [],
   "source": [
    "lesson_week_min = attend.groupby(by=['user_id', 'group_id'])['lesson_weekday'].min().values\n",
    "lesson_week_max = attend.groupby(by=['user_id', 'group_id'])['lesson_weekday'].max().values\n",
    "delta_mean = attend.groupby(by=['user_id', 'group_id'])['delta'].mean().values\n",
    "start_hour_mean = attend.groupby(by=['user_id', 'group_id'])['start_hour'].mean().values\n",
    "finish_hour_mean = attend.groupby(by=['user_id', 'group_id'])['finish_hour'].mean().values\n",
    "number_of_lessons = attend.groupby(by=['user_id', 'group_id'])['finish_hour'].count().values"
   ],
   "metadata": {
    "collapsed": false,
    "ExecuteTime": {
     "start_time": "2023-05-27T11:06:10.832331Z",
     "end_time": "2023-05-27T11:07:27.428146Z"
    }
   }
  },
  {
   "cell_type": "code",
   "execution_count": 31,
   "outputs": [],
   "source": [
    "grouped_attend['weekday_1'] = lesson_week_min\n",
    "grouped_attend['weekday_2'] = lesson_week_max\n",
    "grouped_attend['delta'] = delta_mean\n",
    "grouped_attend['start_hour'] = start_hour_mean\n",
    "grouped_attend['finish_hour'] = finish_hour_mean\n",
    "grouped_attend['number_of_lessons'] = number_of_lessons"
   ],
   "metadata": {
    "collapsed": false,
    "ExecuteTime": {
     "start_time": "2023-05-27T11:07:27.428146Z",
     "end_time": "2023-05-27T11:07:27.474988Z"
    }
   }
  },
  {
   "cell_type": "code",
   "execution_count": 32,
   "outputs": [],
   "source": [
    "grouped_attend['weekday_2'] = grouped_attend['weekday_2'].mask(grouped_attend['weekday_1'] == grouped_attend['weekday_2']).fillna('неизвестно')"
   ],
   "metadata": {
    "collapsed": false,
    "ExecuteTime": {
     "start_time": "2023-05-27T11:07:27.459388Z",
     "end_time": "2023-05-27T11:07:27.553125Z"
    }
   }
  },
  {
   "cell_type": "code",
   "execution_count": 33,
   "outputs": [],
   "source": [
    "groups['district'].fillna('неизвестно', inplace=True)\n",
    "groups['region'].fillna('неизвестно', inplace=True)\n",
    "groups['weekday_2'].fillna('неизвестно', inplace=True)\n",
    "users['user_district'].fillna('неизвестно', inplace=True)\n",
    "users['user_region'].fillna('неизвестно', inplace=True)"
   ],
   "metadata": {
    "collapsed": false,
    "ExecuteTime": {
     "start_time": "2023-05-27T11:07:27.568748Z",
     "end_time": "2023-05-27T11:07:27.631252Z"
    }
   }
  },
  {
   "cell_type": "code",
   "execution_count": 34,
   "outputs": [
    {
     "data": {
      "text/plain": "          user_id   group_id weekday_1   weekday_2  delta  start_hour   \n0       101346549  801357282        Вт  неизвестно    2.0        16.0  \\\n1       101346549  801361690        Пн  неизвестно    2.0        11.0   \n2       101346549  801365191        Пн          Ср    1.0        11.0   \n3       101346549  801366199        Ср  неизвестно    2.0        15.0   \n4       101346549  801367532        Чт  неизвестно    1.0        18.0   \n...           ...        ...       ...         ...    ...         ...   \n600385  101449498  801368116        Пн          Ср    1.0        16.0   \n600386  101449549  801346695        Пн  неизвестно    1.0        12.0   \n600387  101449549  801351787        Пн  неизвестно    1.0        11.0   \n600388  101449549  801367908        Пн          Чт    1.0        18.0   \n600389  101449549  801367996        Вт  неизвестно    1.0        11.0   \n\n        finish_hour  number_of_lessons  \n0              18.0                  1  \n1              13.0                  1  \n2              12.0                  2  \n3              17.0                  1  \n4              19.0                  2  \n...             ...                ...  \n600385         17.0                  3  \n600386         13.0                  1  \n600387         12.0                  1  \n600388         19.0                  2  \n600389         12.0                  1  \n\n[600390 rows x 8 columns]",
      "text/html": "<div>\n<style scoped>\n    .dataframe tbody tr th:only-of-type {\n        vertical-align: middle;\n    }\n\n    .dataframe tbody tr th {\n        vertical-align: top;\n    }\n\n    .dataframe thead th {\n        text-align: right;\n    }\n</style>\n<table border=\"1\" class=\"dataframe\">\n  <thead>\n    <tr style=\"text-align: right;\">\n      <th></th>\n      <th>user_id</th>\n      <th>group_id</th>\n      <th>weekday_1</th>\n      <th>weekday_2</th>\n      <th>delta</th>\n      <th>start_hour</th>\n      <th>finish_hour</th>\n      <th>number_of_lessons</th>\n    </tr>\n  </thead>\n  <tbody>\n    <tr>\n      <th>0</th>\n      <td>101346549</td>\n      <td>801357282</td>\n      <td>Вт</td>\n      <td>неизвестно</td>\n      <td>2.0</td>\n      <td>16.0</td>\n      <td>18.0</td>\n      <td>1</td>\n    </tr>\n    <tr>\n      <th>1</th>\n      <td>101346549</td>\n      <td>801361690</td>\n      <td>Пн</td>\n      <td>неизвестно</td>\n      <td>2.0</td>\n      <td>11.0</td>\n      <td>13.0</td>\n      <td>1</td>\n    </tr>\n    <tr>\n      <th>2</th>\n      <td>101346549</td>\n      <td>801365191</td>\n      <td>Пн</td>\n      <td>Ср</td>\n      <td>1.0</td>\n      <td>11.0</td>\n      <td>12.0</td>\n      <td>2</td>\n    </tr>\n    <tr>\n      <th>3</th>\n      <td>101346549</td>\n      <td>801366199</td>\n      <td>Ср</td>\n      <td>неизвестно</td>\n      <td>2.0</td>\n      <td>15.0</td>\n      <td>17.0</td>\n      <td>1</td>\n    </tr>\n    <tr>\n      <th>4</th>\n      <td>101346549</td>\n      <td>801367532</td>\n      <td>Чт</td>\n      <td>неизвестно</td>\n      <td>1.0</td>\n      <td>18.0</td>\n      <td>19.0</td>\n      <td>2</td>\n    </tr>\n    <tr>\n      <th>...</th>\n      <td>...</td>\n      <td>...</td>\n      <td>...</td>\n      <td>...</td>\n      <td>...</td>\n      <td>...</td>\n      <td>...</td>\n      <td>...</td>\n    </tr>\n    <tr>\n      <th>600385</th>\n      <td>101449498</td>\n      <td>801368116</td>\n      <td>Пн</td>\n      <td>Ср</td>\n      <td>1.0</td>\n      <td>16.0</td>\n      <td>17.0</td>\n      <td>3</td>\n    </tr>\n    <tr>\n      <th>600386</th>\n      <td>101449549</td>\n      <td>801346695</td>\n      <td>Пн</td>\n      <td>неизвестно</td>\n      <td>1.0</td>\n      <td>12.0</td>\n      <td>13.0</td>\n      <td>1</td>\n    </tr>\n    <tr>\n      <th>600387</th>\n      <td>101449549</td>\n      <td>801351787</td>\n      <td>Пн</td>\n      <td>неизвестно</td>\n      <td>1.0</td>\n      <td>11.0</td>\n      <td>12.0</td>\n      <td>1</td>\n    </tr>\n    <tr>\n      <th>600388</th>\n      <td>101449549</td>\n      <td>801367908</td>\n      <td>Пн</td>\n      <td>Чт</td>\n      <td>1.0</td>\n      <td>18.0</td>\n      <td>19.0</td>\n      <td>2</td>\n    </tr>\n    <tr>\n      <th>600389</th>\n      <td>101449549</td>\n      <td>801367996</td>\n      <td>Вт</td>\n      <td>неизвестно</td>\n      <td>1.0</td>\n      <td>11.0</td>\n      <td>12.0</td>\n      <td>1</td>\n    </tr>\n  </tbody>\n</table>\n<p>600390 rows × 8 columns</p>\n</div>"
     },
     "execution_count": 34,
     "metadata": {},
     "output_type": "execute_result"
    }
   ],
   "source": [
    "grouped_attend"
   ],
   "metadata": {
    "collapsed": false,
    "ExecuteTime": {
     "start_time": "2023-05-27T11:07:27.599981Z",
     "end_time": "2023-05-27T11:07:27.646865Z"
    }
   }
  },
  {
   "cell_type": "code",
   "execution_count": 35,
   "outputs": [],
   "source": [
    "groups.to_csv('research/processed_data_2_stage/groups.csv', sep=';', index=False)\n",
    "users.to_csv('research/processed_data_2_stage/users.csv', sep=';', index=False)\n",
    "grouped_attend.to_csv('research/processed_data_2_stage/grouped_attend.csv', sep=';', index=False)\n",
    "attend.to_csv('research/processed_data_2_stage/attend.csv', sep=';', index=False)"
   ],
   "metadata": {
    "collapsed": false,
    "ExecuteTime": {
     "start_time": "2023-05-27T11:07:27.631252Z",
     "end_time": "2023-05-27T11:07:43.820042Z"
    }
   }
  },
  {
   "cell_type": "markdown",
   "source": [
    "## Feature engineering"
   ],
   "metadata": {
    "collapsed": false
   }
  },
  {
   "cell_type": "code",
   "execution_count": 36,
   "outputs": [],
   "source": [
    "groups = pd.read_csv('research/processed_data_2_stage/groups.csv', sep=';')\n",
    "users = pd.read_csv('research/processed_data_2_stage/users.csv', sep=';')\n",
    "attend = pd.read_csv('research/processed_data_2_stage/attend.csv', sep=';')\n",
    "grouped_attend = pd.read_csv('research/processed_data_2_stage/grouped_attend.csv', sep=';')"
   ],
   "metadata": {
    "collapsed": false,
    "ExecuteTime": {
     "start_time": "2023-05-27T11:07:43.820042Z",
     "end_time": "2023-05-27T11:07:47.037201Z"
    }
   }
  },
  {
   "cell_type": "code",
   "execution_count": 37,
   "outputs": [],
   "source": [
    "users = users.sort_values(by='user_id').reset_index(drop=True)"
   ],
   "metadata": {
    "collapsed": false,
    "ExecuteTime": {
     "start_time": "2023-05-27T11:07:47.037201Z",
     "end_time": "2023-05-27T11:07:47.052849Z"
    }
   }
  },
  {
   "cell_type": "code",
   "execution_count": 38,
   "outputs": [],
   "source": [
    "users[['pop_start_hour','pop_finish_hour']] = \\\n",
    "    round(attend.groupby('user_id')[['start_hour', 'finish_hour']].mean(), 1).values"
   ],
   "metadata": {
    "collapsed": false,
    "ExecuteTime": {
     "start_time": "2023-05-27T11:07:47.052849Z",
     "end_time": "2023-05-27T11:07:47.293733Z"
    }
   }
  },
  {
   "cell_type": "code",
   "execution_count": 39,
   "outputs": [],
   "source": [
    "users[['prefer_weekday_1','prefer_weekday_2']] = \\\n",
    "    grouped_attend.groupby('user_id')[['weekday_1', 'weekday_2']].agg(lambda x:x.value_counts().index[0]).values"
   ],
   "metadata": {
    "collapsed": false,
    "ExecuteTime": {
     "start_time": "2023-05-27T11:07:47.293733Z",
     "end_time": "2023-05-27T11:08:05.429812Z"
    }
   }
  },
  {
   "cell_type": "code",
   "execution_count": 40,
   "outputs": [],
   "source": [
    "grouped_attend = grouped_attend[grouped_attend['group_id'].isin(groups['group_id'])].reset_index(drop=True)"
   ],
   "metadata": {
    "collapsed": false,
    "ExecuteTime": {
     "start_time": "2023-05-27T11:08:05.429812Z",
     "end_time": "2023-05-27T11:08:05.492442Z"
    }
   }
  },
  {
   "cell_type": "code",
   "execution_count": 41,
   "outputs": [],
   "source": [
    "groups = groups.merge(round(grouped_attend.merge(users, on='user_id', how='left')[['group_id', 'sex',\n",
    "                                                             'age',\n",
    "                                                             'active_in_months',\n",
    "                                                             'active_in_years']].groupby('group_id', as_index=False).mean(), 2).rename(columns={'sex': 'mean_sex',\n",
    "                                                                                                                                                'age': 'mean_age', 'active_in_months': 'mean_act_in_m', 'active_in_years': 'mean_act_in_y'}), how='left', on='group_id')"
   ],
   "metadata": {
    "collapsed": false,
    "ExecuteTime": {
     "start_time": "2023-05-27T11:08:05.492442Z",
     "end_time": "2023-05-27T11:08:05.679809Z"
    }
   }
  },
  {
   "cell_type": "code",
   "execution_count": 42,
   "outputs": [],
   "source": [
    "groups.fillna({\"mean_sex\": groups['mean_sex'].mean(),\n",
    "               \"mean_age\": groups['mean_age'].mean(),\n",
    "               \"mean_act_in_m\": groups['mean_act_in_m'].mean(),\n",
    "               \"mean_act_in_y\": groups['mean_act_in_y'].mean()}, inplace=True)"
   ],
   "metadata": {
    "collapsed": false,
    "ExecuteTime": {
     "start_time": "2023-05-27T11:08:05.664182Z",
     "end_time": "2023-05-27T11:08:05.711054Z"
    }
   }
  },
  {
   "cell_type": "markdown",
   "source": [
    "### name and history"
   ],
   "metadata": {
    "collapsed": false
   }
  },
  {
   "cell_type": "code",
   "execution_count": 54,
   "outputs": [
    {
     "ename": "TypeError",
     "evalue": "can only join an iterable",
     "output_type": "error",
     "traceback": [
      "\u001B[1;31m---------------------------------------------------------------------------\u001B[0m",
      "\u001B[1;31mTypeError\u001B[0m                                 Traceback (most recent call last)",
      "Cell \u001B[1;32mIn[54], line 4\u001B[0m\n\u001B[0;32m      1\u001B[0m preferences \u001B[38;5;241m=\u001B[39m attend[attend\u001B[38;5;241m.\u001B[39muser_id\u001B[38;5;241m.\u001B[39misin(users\u001B[38;5;241m.\u001B[39muser_id)]\u001B[38;5;241m.\u001B[39mmerge(groups[[\u001B[38;5;124m'\u001B[39m\u001B[38;5;124mgroup_id\u001B[39m\u001B[38;5;124m'\u001B[39m, \u001B[38;5;124m'\u001B[39m\u001B[38;5;124mname\u001B[39m\u001B[38;5;124m'\u001B[39m]], on\u001B[38;5;241m=\u001B[39m\u001B[38;5;124m'\u001B[39m\u001B[38;5;124mgroup_id\u001B[39m\u001B[38;5;124m'\u001B[39m)\u001B[38;5;241m.\u001B[39mrename(columns\u001B[38;5;241m=\u001B[39m{\u001B[38;5;124m'\u001B[39m\u001B[38;5;124mname\u001B[39m\u001B[38;5;124m'\u001B[39m: \u001B[38;5;124m'\u001B[39m\u001B[38;5;124mhistory\u001B[39m\u001B[38;5;124m'\u001B[39m})\u001B[38;5;241m.\u001B[39mgroupby(\u001B[38;5;124m'\u001B[39m\u001B[38;5;124muser_id\u001B[39m\u001B[38;5;124m'\u001B[39m)[\u001B[38;5;124m'\u001B[39m\u001B[38;5;124mhistory\u001B[39m\u001B[38;5;124m'\u001B[39m]\u001B[38;5;241m.\u001B[39mapply(\u001B[38;5;28;01mlambda\u001B[39;00m x: \u001B[38;5;28mlist\u001B[39m(\u001B[38;5;28mset\u001B[39m(x))[:\u001B[38;5;241m10\u001B[39m])\u001B[38;5;241m.\u001B[39mreset_index()\n\u001B[0;32m      3\u001B[0m users \u001B[38;5;241m=\u001B[39m users\u001B[38;5;241m.\u001B[39mmerge(preferences, how\u001B[38;5;241m=\u001B[39m\u001B[38;5;124m'\u001B[39m\u001B[38;5;124mleft\u001B[39m\u001B[38;5;124m'\u001B[39m, on\u001B[38;5;241m=\u001B[39m\u001B[38;5;124m'\u001B[39m\u001B[38;5;124muser_id\u001B[39m\u001B[38;5;124m'\u001B[39m)\n\u001B[1;32m----> 4\u001B[0m users[\u001B[38;5;124m'\u001B[39m\u001B[38;5;124mhistory\u001B[39m\u001B[38;5;124m'\u001B[39m] \u001B[38;5;241m=\u001B[39m \u001B[43musers\u001B[49m\u001B[43m[\u001B[49m\u001B[38;5;124;43m'\u001B[39;49m\u001B[38;5;124;43mhistory\u001B[39;49m\u001B[38;5;124;43m'\u001B[39;49m\u001B[43m]\u001B[49m\u001B[38;5;241;43m.\u001B[39;49m\u001B[43mapply\u001B[49m\u001B[43m(\u001B[49m\u001B[38;5;28;43;01mlambda\u001B[39;49;00m\u001B[43m \u001B[49m\u001B[43mx\u001B[49m\u001B[43m:\u001B[49m\u001B[43m \u001B[49m\u001B[38;5;124;43m'\u001B[39;49m\u001B[38;5;124;43m, \u001B[39;49m\u001B[38;5;124;43m'\u001B[39;49m\u001B[38;5;241;43m.\u001B[39;49m\u001B[43mjoin\u001B[49m\u001B[43m(\u001B[49m\u001B[43mx\u001B[49m\u001B[43m)\u001B[49m\u001B[43m)\u001B[49m\n",
      "File \u001B[1;32mD:\\Files\\recommendation-module-for-senior-people\\env\\lib\\site-packages\\pandas\\core\\series.py:4626\u001B[0m, in \u001B[0;36mSeries.apply\u001B[1;34m(self, func, convert_dtype, args, **kwargs)\u001B[0m\n\u001B[0;32m   4516\u001B[0m \u001B[38;5;28;01mdef\u001B[39;00m \u001B[38;5;21mapply\u001B[39m(\n\u001B[0;32m   4517\u001B[0m     \u001B[38;5;28mself\u001B[39m,\n\u001B[0;32m   4518\u001B[0m     func: AggFuncType,\n\u001B[1;32m   (...)\u001B[0m\n\u001B[0;32m   4521\u001B[0m     \u001B[38;5;241m*\u001B[39m\u001B[38;5;241m*\u001B[39mkwargs,\n\u001B[0;32m   4522\u001B[0m ) \u001B[38;5;241m-\u001B[39m\u001B[38;5;241m>\u001B[39m DataFrame \u001B[38;5;241m|\u001B[39m Series:\n\u001B[0;32m   4523\u001B[0m \u001B[38;5;250m    \u001B[39m\u001B[38;5;124;03m\"\"\"\u001B[39;00m\n\u001B[0;32m   4524\u001B[0m \u001B[38;5;124;03m    Invoke function on values of Series.\u001B[39;00m\n\u001B[0;32m   4525\u001B[0m \n\u001B[1;32m   (...)\u001B[0m\n\u001B[0;32m   4624\u001B[0m \u001B[38;5;124;03m    dtype: float64\u001B[39;00m\n\u001B[0;32m   4625\u001B[0m \u001B[38;5;124;03m    \"\"\"\u001B[39;00m\n\u001B[1;32m-> 4626\u001B[0m     \u001B[38;5;28;01mreturn\u001B[39;00m \u001B[43mSeriesApply\u001B[49m\u001B[43m(\u001B[49m\u001B[38;5;28;43mself\u001B[39;49m\u001B[43m,\u001B[49m\u001B[43m \u001B[49m\u001B[43mfunc\u001B[49m\u001B[43m,\u001B[49m\u001B[43m \u001B[49m\u001B[43mconvert_dtype\u001B[49m\u001B[43m,\u001B[49m\u001B[43m \u001B[49m\u001B[43margs\u001B[49m\u001B[43m,\u001B[49m\u001B[43m \u001B[49m\u001B[43mkwargs\u001B[49m\u001B[43m)\u001B[49m\u001B[38;5;241;43m.\u001B[39;49m\u001B[43mapply\u001B[49m\u001B[43m(\u001B[49m\u001B[43m)\u001B[49m\n",
      "File \u001B[1;32mD:\\Files\\recommendation-module-for-senior-people\\env\\lib\\site-packages\\pandas\\core\\apply.py:1025\u001B[0m, in \u001B[0;36mSeriesApply.apply\u001B[1;34m(self)\u001B[0m\n\u001B[0;32m   1022\u001B[0m     \u001B[38;5;28;01mreturn\u001B[39;00m \u001B[38;5;28mself\u001B[39m\u001B[38;5;241m.\u001B[39mapply_str()\n\u001B[0;32m   1024\u001B[0m \u001B[38;5;66;03m# self.f is Callable\u001B[39;00m\n\u001B[1;32m-> 1025\u001B[0m \u001B[38;5;28;01mreturn\u001B[39;00m \u001B[38;5;28;43mself\u001B[39;49m\u001B[38;5;241;43m.\u001B[39;49m\u001B[43mapply_standard\u001B[49m\u001B[43m(\u001B[49m\u001B[43m)\u001B[49m\n",
      "File \u001B[1;32mD:\\Files\\recommendation-module-for-senior-people\\env\\lib\\site-packages\\pandas\\core\\apply.py:1076\u001B[0m, in \u001B[0;36mSeriesApply.apply_standard\u001B[1;34m(self)\u001B[0m\n\u001B[0;32m   1074\u001B[0m     \u001B[38;5;28;01melse\u001B[39;00m:\n\u001B[0;32m   1075\u001B[0m         values \u001B[38;5;241m=\u001B[39m obj\u001B[38;5;241m.\u001B[39mastype(\u001B[38;5;28mobject\u001B[39m)\u001B[38;5;241m.\u001B[39m_values\n\u001B[1;32m-> 1076\u001B[0m         mapped \u001B[38;5;241m=\u001B[39m \u001B[43mlib\u001B[49m\u001B[38;5;241;43m.\u001B[39;49m\u001B[43mmap_infer\u001B[49m\u001B[43m(\u001B[49m\n\u001B[0;32m   1077\u001B[0m \u001B[43m            \u001B[49m\u001B[43mvalues\u001B[49m\u001B[43m,\u001B[49m\n\u001B[0;32m   1078\u001B[0m \u001B[43m            \u001B[49m\u001B[43mf\u001B[49m\u001B[43m,\u001B[49m\n\u001B[0;32m   1079\u001B[0m \u001B[43m            \u001B[49m\u001B[43mconvert\u001B[49m\u001B[38;5;241;43m=\u001B[39;49m\u001B[38;5;28;43mself\u001B[39;49m\u001B[38;5;241;43m.\u001B[39;49m\u001B[43mconvert_dtype\u001B[49m\u001B[43m,\u001B[49m\n\u001B[0;32m   1080\u001B[0m \u001B[43m        \u001B[49m\u001B[43m)\u001B[49m\n\u001B[0;32m   1082\u001B[0m \u001B[38;5;28;01mif\u001B[39;00m \u001B[38;5;28mlen\u001B[39m(mapped) \u001B[38;5;129;01mand\u001B[39;00m \u001B[38;5;28misinstance\u001B[39m(mapped[\u001B[38;5;241m0\u001B[39m], ABCSeries):\n\u001B[0;32m   1083\u001B[0m     \u001B[38;5;66;03m# GH#43986 Need to do list(mapped) in order to get treated as nested\u001B[39;00m\n\u001B[0;32m   1084\u001B[0m     \u001B[38;5;66;03m#  See also GH#25959 regarding EA support\u001B[39;00m\n\u001B[0;32m   1085\u001B[0m     \u001B[38;5;28;01mreturn\u001B[39;00m obj\u001B[38;5;241m.\u001B[39m_constructor_expanddim(\u001B[38;5;28mlist\u001B[39m(mapped), index\u001B[38;5;241m=\u001B[39mobj\u001B[38;5;241m.\u001B[39mindex)\n",
      "File \u001B[1;32mD:\\Files\\recommendation-module-for-senior-people\\env\\lib\\site-packages\\pandas\\_libs\\lib.pyx:2834\u001B[0m, in \u001B[0;36mpandas._libs.lib.map_infer\u001B[1;34m()\u001B[0m\n",
      "Cell \u001B[1;32mIn[54], line 4\u001B[0m, in \u001B[0;36m<lambda>\u001B[1;34m(x)\u001B[0m\n\u001B[0;32m      1\u001B[0m preferences \u001B[38;5;241m=\u001B[39m attend[attend\u001B[38;5;241m.\u001B[39muser_id\u001B[38;5;241m.\u001B[39misin(users\u001B[38;5;241m.\u001B[39muser_id)]\u001B[38;5;241m.\u001B[39mmerge(groups[[\u001B[38;5;124m'\u001B[39m\u001B[38;5;124mgroup_id\u001B[39m\u001B[38;5;124m'\u001B[39m, \u001B[38;5;124m'\u001B[39m\u001B[38;5;124mname\u001B[39m\u001B[38;5;124m'\u001B[39m]], on\u001B[38;5;241m=\u001B[39m\u001B[38;5;124m'\u001B[39m\u001B[38;5;124mgroup_id\u001B[39m\u001B[38;5;124m'\u001B[39m)\u001B[38;5;241m.\u001B[39mrename(columns\u001B[38;5;241m=\u001B[39m{\u001B[38;5;124m'\u001B[39m\u001B[38;5;124mname\u001B[39m\u001B[38;5;124m'\u001B[39m: \u001B[38;5;124m'\u001B[39m\u001B[38;5;124mhistory\u001B[39m\u001B[38;5;124m'\u001B[39m})\u001B[38;5;241m.\u001B[39mgroupby(\u001B[38;5;124m'\u001B[39m\u001B[38;5;124muser_id\u001B[39m\u001B[38;5;124m'\u001B[39m)[\u001B[38;5;124m'\u001B[39m\u001B[38;5;124mhistory\u001B[39m\u001B[38;5;124m'\u001B[39m]\u001B[38;5;241m.\u001B[39mapply(\u001B[38;5;28;01mlambda\u001B[39;00m x: \u001B[38;5;28mlist\u001B[39m(\u001B[38;5;28mset\u001B[39m(x))[:\u001B[38;5;241m10\u001B[39m])\u001B[38;5;241m.\u001B[39mreset_index()\n\u001B[0;32m      3\u001B[0m users \u001B[38;5;241m=\u001B[39m users\u001B[38;5;241m.\u001B[39mmerge(preferences, how\u001B[38;5;241m=\u001B[39m\u001B[38;5;124m'\u001B[39m\u001B[38;5;124mleft\u001B[39m\u001B[38;5;124m'\u001B[39m, on\u001B[38;5;241m=\u001B[39m\u001B[38;5;124m'\u001B[39m\u001B[38;5;124muser_id\u001B[39m\u001B[38;5;124m'\u001B[39m)\n\u001B[1;32m----> 4\u001B[0m users[\u001B[38;5;124m'\u001B[39m\u001B[38;5;124mhistory\u001B[39m\u001B[38;5;124m'\u001B[39m] \u001B[38;5;241m=\u001B[39m users[\u001B[38;5;124m'\u001B[39m\u001B[38;5;124mhistory\u001B[39m\u001B[38;5;124m'\u001B[39m]\u001B[38;5;241m.\u001B[39mapply(\u001B[38;5;28;01mlambda\u001B[39;00m x: \u001B[38;5;124;43m'\u001B[39;49m\u001B[38;5;124;43m, \u001B[39;49m\u001B[38;5;124;43m'\u001B[39;49m\u001B[38;5;241;43m.\u001B[39;49m\u001B[43mjoin\u001B[49m\u001B[43m(\u001B[49m\u001B[43mx\u001B[49m\u001B[43m)\u001B[49m)\n",
      "\u001B[1;31mTypeError\u001B[0m: can only join an iterable"
     ]
    }
   ],
   "source": [
    "preferences = attend[attend.user_id.isin(users.user_id)].merge(groups[['group_id', 'name']], on='group_id').rename(columns={'name': 'history'}).groupby('user_id')['history'].apply(lambda x: list(set(x))[:10]).reset_index()\n",
    "\n",
    "users = users.merge(preferences, how='left', on='user_id')\n",
    "users['history'] = users['history'].apply(lambda x: ', '.join(x) if type(x) == list else x)"
   ],
   "metadata": {
    "collapsed": false
   }
  },
  {
   "cell_type": "code",
   "execution_count": 65,
   "outputs": [],
   "source": [
    "rn = RussianNames(count=users.shape[0], patronymic=False)"
   ],
   "metadata": {
    "collapsed": false,
    "ExecuteTime": {
     "start_time": "2023-05-27T11:42:56.950271Z",
     "end_time": "2023-05-27T11:42:57.012896Z"
    }
   }
  },
  {
   "cell_type": "code",
   "execution_count": 68,
   "outputs": [],
   "source": [
    "users['name'] = rn.get_batch()"
   ],
   "metadata": {
    "collapsed": false,
    "ExecuteTime": {
     "start_time": "2023-05-27T11:43:42.525858Z",
     "end_time": "2023-05-27T11:43:47.765192Z"
    }
   }
  },
  {
   "cell_type": "code",
   "execution_count": 70,
   "outputs": [],
   "source": [
    "groups.to_csv('research/processed_data_2_stage/groups.csv', sep=';', index=False)\n",
    "users.to_csv('research/processed_data_2_stage/users.csv', sep=';', index=False)\n",
    "grouped_attend.to_csv('research/processed_data_2_stage/grouped_attend.csv', sep=';', index=False)\n",
    "attend.to_csv('research/processed_data_2_stage/attend.csv', sep=';', index=False)"
   ],
   "metadata": {
    "collapsed": false,
    "ExecuteTime": {
     "start_time": "2023-05-27T11:44:20.444650Z",
     "end_time": "2023-05-27T11:44:34.631404Z"
    }
   }
  },
  {
   "cell_type": "markdown",
   "source": [
    "## Model"
   ],
   "metadata": {
    "collapsed": false
   }
  },
  {
   "cell_type": "code",
   "execution_count": 8,
   "outputs": [],
   "source": [
    "groups = pd.read_csv('research/processed_data_2_stage/groups.csv', sep=';')\n",
    "users = pd.read_csv('research/processed_data_2_stage/users.csv', sep=';')\n",
    "attend = pd.read_csv('research/processed_data_2_stage/attend.csv', sep=';')\n",
    "grouped_attend = pd.read_csv('research/processed_data_2_stage/grouped_attend.csv', sep=';')\n",
    "test = pd.read_csv('research/raw_data/test.csv')"
   ],
   "metadata": {
    "collapsed": false,
    "ExecuteTime": {
     "start_time": "2023-05-27T22:19:13.162499Z",
     "end_time": "2023-05-27T22:19:17.363653Z"
    }
   }
  },
  {
   "cell_type": "code",
   "execution_count": 72,
   "outputs": [],
   "source": [
    "def apk(actual, predicted, k=10):\n",
    "    if not actual:\n",
    "        return 0.0\n",
    "\n",
    "    if len(predicted)>k:\n",
    "        predicted = predicted[:k]\n",
    "\n",
    "    score = 0.0\n",
    "    num_hits = 0.0\n",
    "\n",
    "    for i, p in enumerate(predicted):\n",
    "        if p in actual and p not in predicted[:i]:\n",
    "            num_hits += 1.0\n",
    "            score += num_hits / (i+1.0)\n",
    "\n",
    "    return score / min(len(actual), k)\n",
    "\n",
    "def mapk(actual, predicted, k=10):\n",
    "    return np.mean([apk(a,p,k) for a,p in zip(actual, predicted)])"
   ],
   "metadata": {
    "collapsed": false,
    "ExecuteTime": {
     "start_time": "2023-05-27T11:44:38.205626Z",
     "end_time": "2023-05-27T11:44:38.221242Z"
    }
   }
  },
  {
   "cell_type": "code",
   "execution_count": 4,
   "outputs": [],
   "source": [
    "attend = attend[attend['user_id'].isin(users['user_id'])]\n",
    "grouped_attend = grouped_attend[grouped_attend['user_id'].isin(users['user_id'])]"
   ],
   "metadata": {
    "collapsed": false,
    "ExecuteTime": {
     "start_time": "2023-05-27T22:09:25.174675Z",
     "end_time": "2023-05-27T22:09:25.380513Z"
    }
   }
  },
  {
   "cell_type": "code",
   "execution_count": 74,
   "outputs": [],
   "source": [
    "cat_features = ['weekday_1', 'weekday_2',\n",
    "                'user_district', 'user_region',\n",
    "                'prefer_weekday_1',\n",
    "                'prefer_weekday_2',\n",
    "                'category 1',\n",
    "                'category 2', 'name', 'district',\n",
    "                'region', 'marker', 'topic']\n",
    "\n",
    "cat_u_features = ['user_district', 'user_region',\n",
    "                  'prefer_weekday_1',\n",
    "                  'prefer_weekday_2',]\n",
    "cat_g_features = ['category 1',\n",
    "                  'category 2', 'name', 'district',\n",
    "                  'region', 'marker', 'weekday_1', 'weekday_2', 'topic']"
   ],
   "metadata": {
    "collapsed": false,
    "ExecuteTime": {
     "start_time": "2023-05-27T11:44:38.418829Z",
     "end_time": "2023-05-27T11:44:38.434422Z"
    }
   }
  },
  {
   "cell_type": "code",
   "execution_count": 75,
   "outputs": [],
   "source": [
    "from surprise import NormalPredictor\n",
    "from surprise import Dataset\n",
    "from surprise import Reader\n",
    "from surprise import SVD\n",
    "from surprise import SVDpp\n",
    "from surprise import KNNBasic\n",
    "from surprise.model_selection import cross_validate\n",
    "from surprise.model_selection import train_test_split\n",
    "\n",
    "from sklearn.neighbors import NearestNeighbors\n",
    "from sklearn.decomposition import PCA\n",
    "from sklearn.preprocessing import StandardScaler"
   ],
   "metadata": {
    "collapsed": false,
    "ExecuteTime": {
     "start_time": "2023-05-27T11:44:38.434422Z",
     "end_time": "2023-05-27T11:44:41.863773Z"
    }
   }
  },
  {
   "cell_type": "code",
   "execution_count": 76,
   "outputs": [],
   "source": [
    "train = grouped_attend.merge(users, how='left', on='user_id')\\\n",
    "    .merge(groups.drop(columns=['weekday_1', 'weekday_2', 'delta', 'start_hour', 'finish_hour']), how='left', on='group_id')"
   ],
   "metadata": {
    "collapsed": false,
    "ExecuteTime": {
     "start_time": "2023-05-27T11:44:41.848166Z",
     "end_time": "2023-05-27T11:44:42.129409Z"
    }
   }
  },
  {
   "cell_type": "code",
   "execution_count": 77,
   "outputs": [
    {
     "ename": "ValueError",
     "evalue": "could not convert string to float: 'московский театрал, ландшафтный дизайн, суставная гимнастика, кулинарные курсы, физкультурно-оздоровительные занятия, история, культура россии, акварельная живопись, здоровая спина, литература, авторские курсы/маршруты'",
     "output_type": "error",
     "traceback": [
      "\u001B[1;31m---------------------------------------------------------------------------\u001B[0m",
      "\u001B[1;31mValueError\u001B[0m                                Traceback (most recent call last)",
      "Cell \u001B[1;32mIn[77], line 7\u001B[0m\n\u001B[0;32m      4\u001B[0m scaler_g \u001B[38;5;241m=\u001B[39m StandardScaler()\n\u001B[0;32m      5\u001B[0m scaler_u \u001B[38;5;241m=\u001B[39m StandardScaler()\n\u001B[1;32m----> 7\u001B[0m pca_users \u001B[38;5;241m=\u001B[39m \u001B[43mscaler_u\u001B[49m\u001B[38;5;241;43m.\u001B[39;49m\u001B[43mfit_transform\u001B[49m\u001B[43m(\u001B[49m\u001B[43mdummy_users\u001B[49m\u001B[38;5;241;43m.\u001B[39;49m\u001B[43mdrop\u001B[49m\u001B[43m(\u001B[49m\u001B[43mcolumns\u001B[49m\u001B[38;5;241;43m=\u001B[39;49m\u001B[43m[\u001B[49m\u001B[38;5;124;43m'\u001B[39;49m\u001B[38;5;124;43muser_id\u001B[39;49m\u001B[38;5;124;43m'\u001B[39;49m\u001B[43m]\u001B[49m\u001B[43m)\u001B[49m\u001B[43m)\u001B[49m\n\u001B[0;32m      8\u001B[0m pca_groups \u001B[38;5;241m=\u001B[39m scaler_g\u001B[38;5;241m.\u001B[39mfit_transform(dummy_groups\u001B[38;5;241m.\u001B[39mdrop(columns\u001B[38;5;241m=\u001B[39m[\u001B[38;5;124m'\u001B[39m\u001B[38;5;124mgroup_id\u001B[39m\u001B[38;5;124m'\u001B[39m]))\n\u001B[0;32m     10\u001B[0m pca_g \u001B[38;5;241m=\u001B[39m PCA(n_components\u001B[38;5;241m=\u001B[39m\u001B[38;5;241m380\u001B[39m)\n",
      "File \u001B[1;32mD:\\Files\\recommendation-module-for-senior-people\\env\\lib\\site-packages\\sklearn\\utils\\_set_output.py:140\u001B[0m, in \u001B[0;36m_wrap_method_output.<locals>.wrapped\u001B[1;34m(self, X, *args, **kwargs)\u001B[0m\n\u001B[0;32m    138\u001B[0m \u001B[38;5;129m@wraps\u001B[39m(f)\n\u001B[0;32m    139\u001B[0m \u001B[38;5;28;01mdef\u001B[39;00m \u001B[38;5;21mwrapped\u001B[39m(\u001B[38;5;28mself\u001B[39m, X, \u001B[38;5;241m*\u001B[39margs, \u001B[38;5;241m*\u001B[39m\u001B[38;5;241m*\u001B[39mkwargs):\n\u001B[1;32m--> 140\u001B[0m     data_to_wrap \u001B[38;5;241m=\u001B[39m \u001B[43mf\u001B[49m\u001B[43m(\u001B[49m\u001B[38;5;28;43mself\u001B[39;49m\u001B[43m,\u001B[49m\u001B[43m \u001B[49m\u001B[43mX\u001B[49m\u001B[43m,\u001B[49m\u001B[43m \u001B[49m\u001B[38;5;241;43m*\u001B[39;49m\u001B[43margs\u001B[49m\u001B[43m,\u001B[49m\u001B[43m \u001B[49m\u001B[38;5;241;43m*\u001B[39;49m\u001B[38;5;241;43m*\u001B[39;49m\u001B[43mkwargs\u001B[49m\u001B[43m)\u001B[49m\n\u001B[0;32m    141\u001B[0m     \u001B[38;5;28;01mif\u001B[39;00m \u001B[38;5;28misinstance\u001B[39m(data_to_wrap, \u001B[38;5;28mtuple\u001B[39m):\n\u001B[0;32m    142\u001B[0m         \u001B[38;5;66;03m# only wrap the first output for cross decomposition\u001B[39;00m\n\u001B[0;32m    143\u001B[0m         \u001B[38;5;28;01mreturn\u001B[39;00m (\n\u001B[0;32m    144\u001B[0m             _wrap_data_with_container(method, data_to_wrap[\u001B[38;5;241m0\u001B[39m], X, \u001B[38;5;28mself\u001B[39m),\n\u001B[0;32m    145\u001B[0m             \u001B[38;5;241m*\u001B[39mdata_to_wrap[\u001B[38;5;241m1\u001B[39m:],\n\u001B[0;32m    146\u001B[0m         )\n",
      "File \u001B[1;32mD:\\Files\\recommendation-module-for-senior-people\\env\\lib\\site-packages\\sklearn\\base.py:878\u001B[0m, in \u001B[0;36mTransformerMixin.fit_transform\u001B[1;34m(self, X, y, **fit_params)\u001B[0m\n\u001B[0;32m    874\u001B[0m \u001B[38;5;66;03m# non-optimized default implementation; override when a better\u001B[39;00m\n\u001B[0;32m    875\u001B[0m \u001B[38;5;66;03m# method is possible for a given clustering algorithm\u001B[39;00m\n\u001B[0;32m    876\u001B[0m \u001B[38;5;28;01mif\u001B[39;00m y \u001B[38;5;129;01mis\u001B[39;00m \u001B[38;5;28;01mNone\u001B[39;00m:\n\u001B[0;32m    877\u001B[0m     \u001B[38;5;66;03m# fit method of arity 1 (unsupervised transformation)\u001B[39;00m\n\u001B[1;32m--> 878\u001B[0m     \u001B[38;5;28;01mreturn\u001B[39;00m \u001B[38;5;28;43mself\u001B[39;49m\u001B[38;5;241;43m.\u001B[39;49m\u001B[43mfit\u001B[49m\u001B[43m(\u001B[49m\u001B[43mX\u001B[49m\u001B[43m,\u001B[49m\u001B[43m \u001B[49m\u001B[38;5;241;43m*\u001B[39;49m\u001B[38;5;241;43m*\u001B[39;49m\u001B[43mfit_params\u001B[49m\u001B[43m)\u001B[49m\u001B[38;5;241m.\u001B[39mtransform(X)\n\u001B[0;32m    879\u001B[0m \u001B[38;5;28;01melse\u001B[39;00m:\n\u001B[0;32m    880\u001B[0m     \u001B[38;5;66;03m# fit method of arity 2 (supervised transformation)\u001B[39;00m\n\u001B[0;32m    881\u001B[0m     \u001B[38;5;28;01mreturn\u001B[39;00m \u001B[38;5;28mself\u001B[39m\u001B[38;5;241m.\u001B[39mfit(X, y, \u001B[38;5;241m*\u001B[39m\u001B[38;5;241m*\u001B[39mfit_params)\u001B[38;5;241m.\u001B[39mtransform(X)\n",
      "File \u001B[1;32mD:\\Files\\recommendation-module-for-senior-people\\env\\lib\\site-packages\\sklearn\\preprocessing\\_data.py:824\u001B[0m, in \u001B[0;36mStandardScaler.fit\u001B[1;34m(self, X, y, sample_weight)\u001B[0m\n\u001B[0;32m    822\u001B[0m \u001B[38;5;66;03m# Reset internal state before fitting\u001B[39;00m\n\u001B[0;32m    823\u001B[0m \u001B[38;5;28mself\u001B[39m\u001B[38;5;241m.\u001B[39m_reset()\n\u001B[1;32m--> 824\u001B[0m \u001B[38;5;28;01mreturn\u001B[39;00m \u001B[38;5;28;43mself\u001B[39;49m\u001B[38;5;241;43m.\u001B[39;49m\u001B[43mpartial_fit\u001B[49m\u001B[43m(\u001B[49m\u001B[43mX\u001B[49m\u001B[43m,\u001B[49m\u001B[43m \u001B[49m\u001B[43my\u001B[49m\u001B[43m,\u001B[49m\u001B[43m \u001B[49m\u001B[43msample_weight\u001B[49m\u001B[43m)\u001B[49m\n",
      "File \u001B[1;32mD:\\Files\\recommendation-module-for-senior-people\\env\\lib\\site-packages\\sklearn\\preprocessing\\_data.py:861\u001B[0m, in \u001B[0;36mStandardScaler.partial_fit\u001B[1;34m(self, X, y, sample_weight)\u001B[0m\n\u001B[0;32m    858\u001B[0m \u001B[38;5;28mself\u001B[39m\u001B[38;5;241m.\u001B[39m_validate_params()\n\u001B[0;32m    860\u001B[0m first_call \u001B[38;5;241m=\u001B[39m \u001B[38;5;129;01mnot\u001B[39;00m \u001B[38;5;28mhasattr\u001B[39m(\u001B[38;5;28mself\u001B[39m, \u001B[38;5;124m\"\u001B[39m\u001B[38;5;124mn_samples_seen_\u001B[39m\u001B[38;5;124m\"\u001B[39m)\n\u001B[1;32m--> 861\u001B[0m X \u001B[38;5;241m=\u001B[39m \u001B[38;5;28;43mself\u001B[39;49m\u001B[38;5;241;43m.\u001B[39;49m\u001B[43m_validate_data\u001B[49m\u001B[43m(\u001B[49m\n\u001B[0;32m    862\u001B[0m \u001B[43m    \u001B[49m\u001B[43mX\u001B[49m\u001B[43m,\u001B[49m\n\u001B[0;32m    863\u001B[0m \u001B[43m    \u001B[49m\u001B[43maccept_sparse\u001B[49m\u001B[38;5;241;43m=\u001B[39;49m\u001B[43m(\u001B[49m\u001B[38;5;124;43m\"\u001B[39;49m\u001B[38;5;124;43mcsr\u001B[39;49m\u001B[38;5;124;43m\"\u001B[39;49m\u001B[43m,\u001B[49m\u001B[43m \u001B[49m\u001B[38;5;124;43m\"\u001B[39;49m\u001B[38;5;124;43mcsc\u001B[39;49m\u001B[38;5;124;43m\"\u001B[39;49m\u001B[43m)\u001B[49m\u001B[43m,\u001B[49m\n\u001B[0;32m    864\u001B[0m \u001B[43m    \u001B[49m\u001B[43mdtype\u001B[49m\u001B[38;5;241;43m=\u001B[39;49m\u001B[43mFLOAT_DTYPES\u001B[49m\u001B[43m,\u001B[49m\n\u001B[0;32m    865\u001B[0m \u001B[43m    \u001B[49m\u001B[43mforce_all_finite\u001B[49m\u001B[38;5;241;43m=\u001B[39;49m\u001B[38;5;124;43m\"\u001B[39;49m\u001B[38;5;124;43mallow-nan\u001B[39;49m\u001B[38;5;124;43m\"\u001B[39;49m\u001B[43m,\u001B[49m\n\u001B[0;32m    866\u001B[0m \u001B[43m    \u001B[49m\u001B[43mreset\u001B[49m\u001B[38;5;241;43m=\u001B[39;49m\u001B[43mfirst_call\u001B[49m\u001B[43m,\u001B[49m\n\u001B[0;32m    867\u001B[0m \u001B[43m\u001B[49m\u001B[43m)\u001B[49m\n\u001B[0;32m    868\u001B[0m n_features \u001B[38;5;241m=\u001B[39m X\u001B[38;5;241m.\u001B[39mshape[\u001B[38;5;241m1\u001B[39m]\n\u001B[0;32m    870\u001B[0m \u001B[38;5;28;01mif\u001B[39;00m sample_weight \u001B[38;5;129;01mis\u001B[39;00m \u001B[38;5;129;01mnot\u001B[39;00m \u001B[38;5;28;01mNone\u001B[39;00m:\n",
      "File \u001B[1;32mD:\\Files\\recommendation-module-for-senior-people\\env\\lib\\site-packages\\sklearn\\base.py:565\u001B[0m, in \u001B[0;36mBaseEstimator._validate_data\u001B[1;34m(self, X, y, reset, validate_separately, **check_params)\u001B[0m\n\u001B[0;32m    563\u001B[0m     \u001B[38;5;28;01mraise\u001B[39;00m \u001B[38;5;167;01mValueError\u001B[39;00m(\u001B[38;5;124m\"\u001B[39m\u001B[38;5;124mValidation should be done on X, y or both.\u001B[39m\u001B[38;5;124m\"\u001B[39m)\n\u001B[0;32m    564\u001B[0m \u001B[38;5;28;01melif\u001B[39;00m \u001B[38;5;129;01mnot\u001B[39;00m no_val_X \u001B[38;5;129;01mand\u001B[39;00m no_val_y:\n\u001B[1;32m--> 565\u001B[0m     X \u001B[38;5;241m=\u001B[39m \u001B[43mcheck_array\u001B[49m\u001B[43m(\u001B[49m\u001B[43mX\u001B[49m\u001B[43m,\u001B[49m\u001B[43m \u001B[49m\u001B[43minput_name\u001B[49m\u001B[38;5;241;43m=\u001B[39;49m\u001B[38;5;124;43m\"\u001B[39;49m\u001B[38;5;124;43mX\u001B[39;49m\u001B[38;5;124;43m\"\u001B[39;49m\u001B[43m,\u001B[49m\u001B[43m \u001B[49m\u001B[38;5;241;43m*\u001B[39;49m\u001B[38;5;241;43m*\u001B[39;49m\u001B[43mcheck_params\u001B[49m\u001B[43m)\u001B[49m\n\u001B[0;32m    566\u001B[0m     out \u001B[38;5;241m=\u001B[39m X\n\u001B[0;32m    567\u001B[0m \u001B[38;5;28;01melif\u001B[39;00m no_val_X \u001B[38;5;129;01mand\u001B[39;00m \u001B[38;5;129;01mnot\u001B[39;00m no_val_y:\n",
      "File \u001B[1;32mD:\\Files\\recommendation-module-for-senior-people\\env\\lib\\site-packages\\sklearn\\utils\\validation.py:810\u001B[0m, in \u001B[0;36mcheck_array\u001B[1;34m(array, accept_sparse, accept_large_sparse, dtype, order, copy, force_all_finite, ensure_2d, allow_nd, ensure_min_samples, ensure_min_features, estimator, input_name)\u001B[0m\n\u001B[0;32m    805\u001B[0m \u001B[38;5;28;01mif\u001B[39;00m pandas_requires_conversion:\n\u001B[0;32m    806\u001B[0m     \u001B[38;5;66;03m# pandas dataframe requires conversion earlier to handle extension dtypes with\u001B[39;00m\n\u001B[0;32m    807\u001B[0m     \u001B[38;5;66;03m# nans\u001B[39;00m\n\u001B[0;32m    808\u001B[0m     \u001B[38;5;66;03m# Use the original dtype for conversion if dtype is None\u001B[39;00m\n\u001B[0;32m    809\u001B[0m     new_dtype \u001B[38;5;241m=\u001B[39m dtype_orig \u001B[38;5;28;01mif\u001B[39;00m dtype \u001B[38;5;129;01mis\u001B[39;00m \u001B[38;5;28;01mNone\u001B[39;00m \u001B[38;5;28;01melse\u001B[39;00m dtype\n\u001B[1;32m--> 810\u001B[0m     array \u001B[38;5;241m=\u001B[39m \u001B[43marray\u001B[49m\u001B[38;5;241;43m.\u001B[39;49m\u001B[43mastype\u001B[49m\u001B[43m(\u001B[49m\u001B[43mnew_dtype\u001B[49m\u001B[43m)\u001B[49m\n\u001B[0;32m    811\u001B[0m     \u001B[38;5;66;03m# Since we converted here, we do not need to convert again later\u001B[39;00m\n\u001B[0;32m    812\u001B[0m     dtype \u001B[38;5;241m=\u001B[39m \u001B[38;5;28;01mNone\u001B[39;00m\n",
      "File \u001B[1;32mD:\\Files\\recommendation-module-for-senior-people\\env\\lib\\site-packages\\pandas\\core\\generic.py:6324\u001B[0m, in \u001B[0;36mNDFrame.astype\u001B[1;34m(self, dtype, copy, errors)\u001B[0m\n\u001B[0;32m   6317\u001B[0m     results \u001B[38;5;241m=\u001B[39m [\n\u001B[0;32m   6318\u001B[0m         \u001B[38;5;28mself\u001B[39m\u001B[38;5;241m.\u001B[39miloc[:, i]\u001B[38;5;241m.\u001B[39mastype(dtype, copy\u001B[38;5;241m=\u001B[39mcopy)\n\u001B[0;32m   6319\u001B[0m         \u001B[38;5;28;01mfor\u001B[39;00m i \u001B[38;5;129;01min\u001B[39;00m \u001B[38;5;28mrange\u001B[39m(\u001B[38;5;28mlen\u001B[39m(\u001B[38;5;28mself\u001B[39m\u001B[38;5;241m.\u001B[39mcolumns))\n\u001B[0;32m   6320\u001B[0m     ]\n\u001B[0;32m   6322\u001B[0m \u001B[38;5;28;01melse\u001B[39;00m:\n\u001B[0;32m   6323\u001B[0m     \u001B[38;5;66;03m# else, only a single dtype is given\u001B[39;00m\n\u001B[1;32m-> 6324\u001B[0m     new_data \u001B[38;5;241m=\u001B[39m \u001B[38;5;28;43mself\u001B[39;49m\u001B[38;5;241;43m.\u001B[39;49m\u001B[43m_mgr\u001B[49m\u001B[38;5;241;43m.\u001B[39;49m\u001B[43mastype\u001B[49m\u001B[43m(\u001B[49m\u001B[43mdtype\u001B[49m\u001B[38;5;241;43m=\u001B[39;49m\u001B[43mdtype\u001B[49m\u001B[43m,\u001B[49m\u001B[43m \u001B[49m\u001B[43mcopy\u001B[49m\u001B[38;5;241;43m=\u001B[39;49m\u001B[43mcopy\u001B[49m\u001B[43m,\u001B[49m\u001B[43m \u001B[49m\u001B[43merrors\u001B[49m\u001B[38;5;241;43m=\u001B[39;49m\u001B[43merrors\u001B[49m\u001B[43m)\u001B[49m\n\u001B[0;32m   6325\u001B[0m     \u001B[38;5;28;01mreturn\u001B[39;00m \u001B[38;5;28mself\u001B[39m\u001B[38;5;241m.\u001B[39m_constructor(new_data)\u001B[38;5;241m.\u001B[39m__finalize__(\u001B[38;5;28mself\u001B[39m, method\u001B[38;5;241m=\u001B[39m\u001B[38;5;124m\"\u001B[39m\u001B[38;5;124mastype\u001B[39m\u001B[38;5;124m\"\u001B[39m)\n\u001B[0;32m   6327\u001B[0m \u001B[38;5;66;03m# GH 33113: handle empty frame or series\u001B[39;00m\n",
      "File \u001B[1;32mD:\\Files\\recommendation-module-for-senior-people\\env\\lib\\site-packages\\pandas\\core\\internals\\managers.py:451\u001B[0m, in \u001B[0;36mBaseBlockManager.astype\u001B[1;34m(self, dtype, copy, errors)\u001B[0m\n\u001B[0;32m    448\u001B[0m \u001B[38;5;28;01melif\u001B[39;00m using_copy_on_write():\n\u001B[0;32m    449\u001B[0m     copy \u001B[38;5;241m=\u001B[39m \u001B[38;5;28;01mFalse\u001B[39;00m\n\u001B[1;32m--> 451\u001B[0m \u001B[38;5;28;01mreturn\u001B[39;00m \u001B[38;5;28;43mself\u001B[39;49m\u001B[38;5;241;43m.\u001B[39;49m\u001B[43mapply\u001B[49m\u001B[43m(\u001B[49m\n\u001B[0;32m    452\u001B[0m \u001B[43m    \u001B[49m\u001B[38;5;124;43m\"\u001B[39;49m\u001B[38;5;124;43mastype\u001B[39;49m\u001B[38;5;124;43m\"\u001B[39;49m\u001B[43m,\u001B[49m\n\u001B[0;32m    453\u001B[0m \u001B[43m    \u001B[49m\u001B[43mdtype\u001B[49m\u001B[38;5;241;43m=\u001B[39;49m\u001B[43mdtype\u001B[49m\u001B[43m,\u001B[49m\n\u001B[0;32m    454\u001B[0m \u001B[43m    \u001B[49m\u001B[43mcopy\u001B[49m\u001B[38;5;241;43m=\u001B[39;49m\u001B[43mcopy\u001B[49m\u001B[43m,\u001B[49m\n\u001B[0;32m    455\u001B[0m \u001B[43m    \u001B[49m\u001B[43merrors\u001B[49m\u001B[38;5;241;43m=\u001B[39;49m\u001B[43merrors\u001B[49m\u001B[43m,\u001B[49m\n\u001B[0;32m    456\u001B[0m \u001B[43m    \u001B[49m\u001B[43musing_cow\u001B[49m\u001B[38;5;241;43m=\u001B[39;49m\u001B[43musing_copy_on_write\u001B[49m\u001B[43m(\u001B[49m\u001B[43m)\u001B[49m\u001B[43m,\u001B[49m\n\u001B[0;32m    457\u001B[0m \u001B[43m\u001B[49m\u001B[43m)\u001B[49m\n",
      "File \u001B[1;32mD:\\Files\\recommendation-module-for-senior-people\\env\\lib\\site-packages\\pandas\\core\\internals\\managers.py:352\u001B[0m, in \u001B[0;36mBaseBlockManager.apply\u001B[1;34m(self, f, align_keys, **kwargs)\u001B[0m\n\u001B[0;32m    350\u001B[0m         applied \u001B[38;5;241m=\u001B[39m b\u001B[38;5;241m.\u001B[39mapply(f, \u001B[38;5;241m*\u001B[39m\u001B[38;5;241m*\u001B[39mkwargs)\n\u001B[0;32m    351\u001B[0m     \u001B[38;5;28;01melse\u001B[39;00m:\n\u001B[1;32m--> 352\u001B[0m         applied \u001B[38;5;241m=\u001B[39m \u001B[38;5;28;43mgetattr\u001B[39;49m\u001B[43m(\u001B[49m\u001B[43mb\u001B[49m\u001B[43m,\u001B[49m\u001B[43m \u001B[49m\u001B[43mf\u001B[49m\u001B[43m)\u001B[49m\u001B[43m(\u001B[49m\u001B[38;5;241;43m*\u001B[39;49m\u001B[38;5;241;43m*\u001B[39;49m\u001B[43mkwargs\u001B[49m\u001B[43m)\u001B[49m\n\u001B[0;32m    353\u001B[0m     result_blocks \u001B[38;5;241m=\u001B[39m extend_blocks(applied, result_blocks)\n\u001B[0;32m    355\u001B[0m out \u001B[38;5;241m=\u001B[39m \u001B[38;5;28mtype\u001B[39m(\u001B[38;5;28mself\u001B[39m)\u001B[38;5;241m.\u001B[39mfrom_blocks(result_blocks, \u001B[38;5;28mself\u001B[39m\u001B[38;5;241m.\u001B[39maxes)\n",
      "File \u001B[1;32mD:\\Files\\recommendation-module-for-senior-people\\env\\lib\\site-packages\\pandas\\core\\internals\\blocks.py:511\u001B[0m, in \u001B[0;36mBlock.astype\u001B[1;34m(self, dtype, copy, errors, using_cow)\u001B[0m\n\u001B[0;32m    491\u001B[0m \u001B[38;5;250m\u001B[39m\u001B[38;5;124;03m\"\"\"\u001B[39;00m\n\u001B[0;32m    492\u001B[0m \u001B[38;5;124;03mCoerce to the new dtype.\u001B[39;00m\n\u001B[0;32m    493\u001B[0m \n\u001B[1;32m   (...)\u001B[0m\n\u001B[0;32m    507\u001B[0m \u001B[38;5;124;03mBlock\u001B[39;00m\n\u001B[0;32m    508\u001B[0m \u001B[38;5;124;03m\"\"\"\u001B[39;00m\n\u001B[0;32m    509\u001B[0m values \u001B[38;5;241m=\u001B[39m \u001B[38;5;28mself\u001B[39m\u001B[38;5;241m.\u001B[39mvalues\n\u001B[1;32m--> 511\u001B[0m new_values \u001B[38;5;241m=\u001B[39m \u001B[43mastype_array_safe\u001B[49m\u001B[43m(\u001B[49m\u001B[43mvalues\u001B[49m\u001B[43m,\u001B[49m\u001B[43m \u001B[49m\u001B[43mdtype\u001B[49m\u001B[43m,\u001B[49m\u001B[43m \u001B[49m\u001B[43mcopy\u001B[49m\u001B[38;5;241;43m=\u001B[39;49m\u001B[43mcopy\u001B[49m\u001B[43m,\u001B[49m\u001B[43m \u001B[49m\u001B[43merrors\u001B[49m\u001B[38;5;241;43m=\u001B[39;49m\u001B[43merrors\u001B[49m\u001B[43m)\u001B[49m\n\u001B[0;32m    513\u001B[0m new_values \u001B[38;5;241m=\u001B[39m maybe_coerce_values(new_values)\n\u001B[0;32m    515\u001B[0m refs \u001B[38;5;241m=\u001B[39m \u001B[38;5;28;01mNone\u001B[39;00m\n",
      "File \u001B[1;32mD:\\Files\\recommendation-module-for-senior-people\\env\\lib\\site-packages\\pandas\\core\\dtypes\\astype.py:242\u001B[0m, in \u001B[0;36mastype_array_safe\u001B[1;34m(values, dtype, copy, errors)\u001B[0m\n\u001B[0;32m    239\u001B[0m     dtype \u001B[38;5;241m=\u001B[39m dtype\u001B[38;5;241m.\u001B[39mnumpy_dtype\n\u001B[0;32m    241\u001B[0m \u001B[38;5;28;01mtry\u001B[39;00m:\n\u001B[1;32m--> 242\u001B[0m     new_values \u001B[38;5;241m=\u001B[39m \u001B[43mastype_array\u001B[49m\u001B[43m(\u001B[49m\u001B[43mvalues\u001B[49m\u001B[43m,\u001B[49m\u001B[43m \u001B[49m\u001B[43mdtype\u001B[49m\u001B[43m,\u001B[49m\u001B[43m \u001B[49m\u001B[43mcopy\u001B[49m\u001B[38;5;241;43m=\u001B[39;49m\u001B[43mcopy\u001B[49m\u001B[43m)\u001B[49m\n\u001B[0;32m    243\u001B[0m \u001B[38;5;28;01mexcept\u001B[39;00m (\u001B[38;5;167;01mValueError\u001B[39;00m, \u001B[38;5;167;01mTypeError\u001B[39;00m):\n\u001B[0;32m    244\u001B[0m     \u001B[38;5;66;03m# e.g. _astype_nansafe can fail on object-dtype of strings\u001B[39;00m\n\u001B[0;32m    245\u001B[0m     \u001B[38;5;66;03m#  trying to convert to float\u001B[39;00m\n\u001B[0;32m    246\u001B[0m     \u001B[38;5;28;01mif\u001B[39;00m errors \u001B[38;5;241m==\u001B[39m \u001B[38;5;124m\"\u001B[39m\u001B[38;5;124mignore\u001B[39m\u001B[38;5;124m\"\u001B[39m:\n",
      "File \u001B[1;32mD:\\Files\\recommendation-module-for-senior-people\\env\\lib\\site-packages\\pandas\\core\\dtypes\\astype.py:187\u001B[0m, in \u001B[0;36mastype_array\u001B[1;34m(values, dtype, copy)\u001B[0m\n\u001B[0;32m    184\u001B[0m     values \u001B[38;5;241m=\u001B[39m values\u001B[38;5;241m.\u001B[39mastype(dtype, copy\u001B[38;5;241m=\u001B[39mcopy)\n\u001B[0;32m    186\u001B[0m \u001B[38;5;28;01melse\u001B[39;00m:\n\u001B[1;32m--> 187\u001B[0m     values \u001B[38;5;241m=\u001B[39m \u001B[43m_astype_nansafe\u001B[49m\u001B[43m(\u001B[49m\u001B[43mvalues\u001B[49m\u001B[43m,\u001B[49m\u001B[43m \u001B[49m\u001B[43mdtype\u001B[49m\u001B[43m,\u001B[49m\u001B[43m \u001B[49m\u001B[43mcopy\u001B[49m\u001B[38;5;241;43m=\u001B[39;49m\u001B[43mcopy\u001B[49m\u001B[43m)\u001B[49m\n\u001B[0;32m    189\u001B[0m \u001B[38;5;66;03m# in pandas we don't store numpy str dtypes, so convert to object\u001B[39;00m\n\u001B[0;32m    190\u001B[0m \u001B[38;5;28;01mif\u001B[39;00m \u001B[38;5;28misinstance\u001B[39m(dtype, np\u001B[38;5;241m.\u001B[39mdtype) \u001B[38;5;129;01mand\u001B[39;00m \u001B[38;5;28missubclass\u001B[39m(values\u001B[38;5;241m.\u001B[39mdtype\u001B[38;5;241m.\u001B[39mtype, \u001B[38;5;28mstr\u001B[39m):\n",
      "File \u001B[1;32mD:\\Files\\recommendation-module-for-senior-people\\env\\lib\\site-packages\\pandas\\core\\dtypes\\astype.py:138\u001B[0m, in \u001B[0;36m_astype_nansafe\u001B[1;34m(arr, dtype, copy, skipna)\u001B[0m\n\u001B[0;32m    134\u001B[0m     \u001B[38;5;28;01mraise\u001B[39;00m \u001B[38;5;167;01mValueError\u001B[39;00m(msg)\n\u001B[0;32m    136\u001B[0m \u001B[38;5;28;01mif\u001B[39;00m copy \u001B[38;5;129;01mor\u001B[39;00m is_object_dtype(arr\u001B[38;5;241m.\u001B[39mdtype) \u001B[38;5;129;01mor\u001B[39;00m is_object_dtype(dtype):\n\u001B[0;32m    137\u001B[0m     \u001B[38;5;66;03m# Explicit copy, or required since NumPy can't view from / to object.\u001B[39;00m\n\u001B[1;32m--> 138\u001B[0m     \u001B[38;5;28;01mreturn\u001B[39;00m \u001B[43marr\u001B[49m\u001B[38;5;241;43m.\u001B[39;49m\u001B[43mastype\u001B[49m\u001B[43m(\u001B[49m\u001B[43mdtype\u001B[49m\u001B[43m,\u001B[49m\u001B[43m \u001B[49m\u001B[43mcopy\u001B[49m\u001B[38;5;241;43m=\u001B[39;49m\u001B[38;5;28;43;01mTrue\u001B[39;49;00m\u001B[43m)\u001B[49m\n\u001B[0;32m    140\u001B[0m \u001B[38;5;28;01mreturn\u001B[39;00m arr\u001B[38;5;241m.\u001B[39mastype(dtype, copy\u001B[38;5;241m=\u001B[39mcopy)\n",
      "\u001B[1;31mValueError\u001B[0m: could not convert string to float: 'московский театрал, ландшафтный дизайн, суставная гимнастика, кулинарные курсы, физкультурно-оздоровительные занятия, история, культура россии, акварельная живопись, здоровая спина, литература, авторские курсы/маршруты'"
     ]
    }
   ],
   "source": [
    "dummy_groups = pd.concat([pd.get_dummies(groups[cat_g_features]), groups.drop(columns=cat_g_features)], axis=1)\n",
    "dummy_users = pd.concat([pd.get_dummies(users[cat_u_features]), users.drop(columns=cat_u_features)], axis=1)\n",
    "\n",
    "scaler_g = StandardScaler()\n",
    "scaler_u = StandardScaler()\n",
    "\n",
    "pca_users = scaler_u.fit_transform(dummy_users.drop(columns=['user_id']))\n",
    "pca_groups = scaler_g.fit_transform(dummy_groups.drop(columns=['group_id']))\n",
    "\n",
    "pca_g = PCA(n_components=380)\n",
    "pca_u = PCA(n_components=100)\n",
    "\n",
    "pca_users = pca_u.fit_transform(pca_users)\n",
    "pca_groups = pca_g.fit_transform(pca_groups)"
   ],
   "metadata": {
    "collapsed": false,
    "ExecuteTime": {
     "start_time": "2023-05-26T22:24:31.030813Z",
     "end_time": "2023-05-26T22:24:36.320252Z"
    }
   }
  },
  {
   "cell_type": "code",
   "execution_count": null,
   "outputs": [],
   "source": [
    "pca_groups = pd.DataFrame(pca_groups, columns=[f'latent_{i}' for i in range(pca_groups.shape[1])])\n",
    "pca_users = pd.DataFrame(pca_users, columns=[f'latent_{i}' for i in range(pca_users.shape[1])])\n",
    "pca_groups['group_id'] = dummy_groups['group_id']\n",
    "pca_users['user_id'] = dummy_users['user_id']"
   ],
   "metadata": {
    "collapsed": false,
    "ExecuteTime": {
     "start_time": "2023-05-26T22:24:39.066175Z",
     "end_time": "2023-05-26T22:24:39.081799Z"
    }
   }
  },
  {
   "cell_type": "code",
   "execution_count": null,
   "outputs": [],
   "source": [
    "neigh_groups = NearestNeighbors(n_neighbors=5, radius=0.5)\n",
    "neigh_groups.fit(pca_groups.drop(columns=['group_id']))\n",
    "\n",
    "neigh_users = NearestNeighbors(n_neighbors=5, radius=0.5)\n",
    "neigh_users.fit(pca_users.drop(columns=['user_id']))"
   ],
   "metadata": {
    "collapsed": false,
    "ExecuteTime": {
     "start_time": "2023-05-26T22:24:43.028618Z",
     "end_time": "2023-05-26T22:24:43.244953Z"
    }
   }
  },
  {
   "cell_type": "code",
   "execution_count": null,
   "outputs": [],
   "source": [
    "def get_similar_items(user_items):\n",
    "    x = pca_groups[pca_groups.group_id.isin(user_items)].drop(columns=['group_id'])\n",
    "    indexes = neigh_groups.kneighbors(x, return_distance=False).reshape(1, -1).tolist()[0]\n",
    "    similar_items = pca_groups.iloc[indexes]['group_id'].drop_duplicates().values\n",
    "    return similar_items\n",
    "\n",
    "def get_similar_users(user):\n",
    "    x = pca_users[pca_users.user_id.isin([user])].drop(columns=['user_id'])\n",
    "    indexes = neigh_users.kneighbors(x, return_distance=False).reshape(1, -1).tolist()[0]\n",
    "    similar_users = pca_users.iloc[indexes]['user_id'].drop_duplicates().values\n",
    "    return similar_users"
   ],
   "metadata": {
    "collapsed": false,
    "ExecuteTime": {
     "start_time": "2023-05-26T22:24:49.732317Z",
     "end_time": "2023-05-26T22:24:49.763587Z"
    }
   }
  },
  {
   "cell_type": "code",
   "execution_count": null,
   "outputs": [],
   "source": [
    "reader = Reader(rating_scale=(1, 94))\n",
    "\n",
    "data = Dataset.load_from_df(train[['user_id', 'group_id', 'number_of_lessons']], reader)\n",
    "# test set is made of 25% of the ratings."
   ],
   "metadata": {
    "collapsed": false,
    "ExecuteTime": {
     "start_time": "2023-05-26T22:24:51.662134Z",
     "end_time": "2023-05-26T22:24:52.009611Z"
    }
   }
  },
  {
   "cell_type": "code",
   "execution_count": null,
   "outputs": [],
   "source": [
    "trainSet = data.build_full_trainset()\n",
    "algo = SVD(n_factors=2000, random_state=1)\n",
    "# cross_validate(algo, data, measures=['RMSE', 'MAE'], cv=5, verbose=True)\n",
    "algo.fit(trainSet)"
   ],
   "metadata": {
    "collapsed": false,
    "ExecuteTime": {
     "start_time": "2023-05-26T22:24:52.407988Z",
     "end_time": "2023-05-26T22:25:54.852798Z"
    }
   }
  },
  {
   "cell_type": "code",
   "execution_count": null,
   "outputs": [],
   "source": [
    "popular_groups = list(train[train['group_id'].isin(group_to_recommend.values.reshape(1, -1).tolist()[0])].groupby('group_id')['user_id'].count()[:10].index)"
   ],
   "metadata": {
    "collapsed": false,
    "ExecuteTime": {
     "start_time": "2023-05-26T22:28:22.956776Z",
     "end_time": "2023-05-26T22:28:23.003647Z"
    }
   }
  },
  {
   "cell_type": "code",
   "execution_count": null,
   "outputs": [],
   "source": [
    "def predict_for_users(users, exclude_user_items=False):\n",
    "    predicted_groups = []\n",
    "    fillValue = trainSet.global_mean\n",
    "\n",
    "    model_items = [trainSet.to_raw_iid(item) for item in trainSet.all_items()]\n",
    "    for uid in tqdm(users):\n",
    "        if uid not in [trainSet.to_raw_uid(uid) for uid in trainSet.all_users()]:\n",
    "            predictions = popular_groups\n",
    "        else:\n",
    "            uid = trainSet.to_inner_uid(uid)\n",
    "            objects_to_predict = []\n",
    "            user_item_ratings = trainSet.ur[uid]\n",
    "            user_items = [item for (item,_) in (user_item_ratings)]\n",
    "\n",
    "            similar_items = get_similar_items([trainSet.to_raw_iid(item_id) for item_id in user_items])\n",
    "            similar_items = [trainSet.to_inner_iid(item_id) for item_id in similar_items if item_id in model_items]\n",
    "            for iid in similar_items:\n",
    "                # get a prediction for specific users and items.\n",
    "                if exclude_user_items:\n",
    "                    if iid not in user_items:\n",
    "                        objects_to_predict.append((trainSet.to_raw_uid(uid), trainSet.to_raw_iid(iid), fillValue))\n",
    "                else:\n",
    "                    objects_to_predict.append((trainSet.to_raw_uid(uid), trainSet.to_raw_iid(iid), fillValue))\n",
    "            predictions = algo.test(objects_to_predict)\n",
    "            predictions = sorted(predictions, key=lambda x: x.est, reverse=True)\n",
    "            predictions = [value.iid for value in predictions[:10]]\n",
    "        predicted_groups.append(predictions)\n",
    "    return predicted_groups\n",
    "\n",
    "predicted_train_groups = predict_for_users([trainSet.to_raw_uid(uid) for uid in trainSet.all_users()[:1000]])"
   ],
   "metadata": {
    "collapsed": false,
    "ExecuteTime": {
     "start_time": "2023-05-26T22:32:52.378916Z",
     "end_time": "2023-05-26T22:33:43.429016Z"
    }
   }
  },
  {
   "cell_type": "code",
   "execution_count": 78,
   "outputs": [],
   "source": [
    "actual_train_groups = grouped_attend.groupby('user_id')['group_id'].apply(list)\n",
    "actual_train_groups = list(actual_train_groups.values)[:1000]"
   ],
   "metadata": {
    "collapsed": false,
    "ExecuteTime": {
     "start_time": "2023-05-27T11:44:43.879981Z",
     "end_time": "2023-05-27T11:44:44.768467Z"
    }
   }
  },
  {
   "cell_type": "code",
   "execution_count": 79,
   "outputs": [
    {
     "ename": "NameError",
     "evalue": "name 'predicted_train_groups' is not defined",
     "output_type": "error",
     "traceback": [
      "\u001B[1;31m---------------------------------------------------------------------------\u001B[0m",
      "\u001B[1;31mNameError\u001B[0m                                 Traceback (most recent call last)",
      "Cell \u001B[1;32mIn[79], line 1\u001B[0m\n\u001B[1;32m----> 1\u001B[0m mapk(actual_train_groups, \u001B[43mpredicted_train_groups\u001B[49m, k\u001B[38;5;241m=\u001B[39m\u001B[38;5;241m10\u001B[39m)\n",
      "\u001B[1;31mNameError\u001B[0m: name 'predicted_train_groups' is not defined"
     ]
    }
   ],
   "source": [
    "mapk(actual_train_groups, predicted_train_groups, k=10)"
   ],
   "metadata": {
    "collapsed": false,
    "ExecuteTime": {
     "start_time": "2023-05-26T22:33:44.538610Z",
     "end_time": "2023-05-26T22:33:44.585495Z"
    }
   }
  },
  {
   "cell_type": "code",
   "execution_count": 121,
   "outputs": [],
   "source": [
    "train[['user_id', 'group_id', 'number_of_lessons']].to_csv('research/model_data/merged_historical_data.csv', sep=';', index=False)\n",
    "pca_users.to_csv('research/model_data/pca_users.csv', sep=';', index=False)\n",
    "pca_groups.to_csv('research/model_data/pca_groups.csv', sep=';', index=False)"
   ],
   "metadata": {
    "collapsed": false,
    "ExecuteTime": {
     "start_time": "2023-05-26T22:34:34.622992Z",
     "end_time": "2023-05-26T22:34:51.518952Z"
    }
   }
  },
  {
   "cell_type": "code",
   "execution_count": 122,
   "outputs": [],
   "source": [
    "import pickle\n",
    "\n",
    "with open(\"research/models/SVD.pkl\", \"wb\") as f:\n",
    "    pickle.dump(algo, f)"
   ],
   "metadata": {
    "collapsed": false,
    "ExecuteTime": {
     "start_time": "2023-05-26T22:34:51.518952Z",
     "end_time": "2023-05-26T22:34:53.687898Z"
    }
   }
  },
  {
   "cell_type": "code",
   "execution_count": null,
   "outputs": [],
   "source": [],
   "metadata": {
    "collapsed": false
   }
  }
 ],
 "metadata": {
  "kernelspec": {
   "display_name": "Python 3",
   "language": "python",
   "name": "python3"
  },
  "language_info": {
   "codemirror_mode": {
    "name": "ipython",
    "version": 2
   },
   "file_extension": ".py",
   "mimetype": "text/x-python",
   "name": "python",
   "nbconvert_exporter": "python",
   "pygments_lexer": "ipython2",
   "version": "2.7.6"
  }
 },
 "nbformat": 4,
 "nbformat_minor": 0
}
