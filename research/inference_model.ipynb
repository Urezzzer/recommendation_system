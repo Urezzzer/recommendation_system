{
 "cells": [
  {
   "cell_type": "code",
   "execution_count": 1,
   "outputs": [],
   "source": [
    "from surprise import NormalPredictor\n",
    "from surprise import Dataset\n",
    "from surprise import Reader\n",
    "from surprise import SVD\n",
    "from surprise import SVDpp\n",
    "from surprise import KNNBasic\n",
    "from surprise.model_selection import cross_validate\n",
    "from surprise.model_selection import train_test_split\n",
    "\n",
    "from sklearn.neighbors import NearestNeighbors\n",
    "from sklearn.decomposition import PCA\n",
    "from sklearn.preprocessing import StandardScaler"
   ],
   "metadata": {
    "collapsed": false,
    "ExecuteTime": {
     "start_time": "2023-05-27T23:04:02.899892Z",
     "end_time": "2023-05-27T23:04:04.173914Z"
    }
   }
  },
  {
   "cell_type": "code",
   "execution_count": 2,
   "outputs": [],
   "source": [
    "import pandas as pd\n",
    "import numpy as np\n",
    "from datetime import datetime\n",
    "from datetime import timedelta\n",
    "from tqdm.auto import tqdm\n",
    "tqdm.pandas()\n",
    "\n",
    "import pickle\n",
    "import matplotlib.pyplot as plt"
   ],
   "metadata": {
    "collapsed": false,
    "ExecuteTime": {
     "start_time": "2023-05-27T23:04:04.167864Z",
     "end_time": "2023-05-27T23:04:05.148744Z"
    }
   }
  },
  {
   "cell_type": "code",
   "execution_count": 87,
   "outputs": [],
   "source": [
    "with open(\"research/models/SVD.pkl\", \"rb\") as f:\n",
    "    algo = pickle.load(f)"
   ],
   "metadata": {
    "collapsed": false,
    "ExecuteTime": {
     "start_time": "2023-05-27T17:01:50.487930Z",
     "end_time": "2023-05-27T17:01:52.029713Z"
    }
   }
  },
  {
   "cell_type": "code",
   "execution_count": 3,
   "outputs": [],
   "source": [
    "train = pd.read_csv('research/model_data/merged_historical_data.csv', sep=';')\n",
    "pca_users = pd.read_csv('research/model_data/pca_users.csv', sep=';')\n",
    "pca_groups = pd.read_csv('research/model_data/pca_groups.csv', sep=';')\n",
    "group_to_recommend = pd.read_csv('research/raw_data/group_list_to_recommend.csv', header=None)"
   ],
   "metadata": {
    "collapsed": false,
    "ExecuteTime": {
     "start_time": "2023-05-27T23:04:05.150746Z",
     "end_time": "2023-05-27T23:04:08.055833Z"
    }
   }
  },
  {
   "cell_type": "code",
   "execution_count": 4,
   "outputs": [],
   "source": [
    "group_to_recommend = group_to_recommend.values.reshape(1, -1).tolist()[0]"
   ],
   "metadata": {
    "collapsed": false,
    "ExecuteTime": {
     "start_time": "2023-05-27T23:04:08.056836Z",
     "end_time": "2023-05-27T23:04:08.071778Z"
    }
   }
  },
  {
   "cell_type": "code",
   "execution_count": 30,
   "outputs": [],
   "source": [
    "group_to_recommend = train[train.group_id.isin(group_to_recommend)].group_id.unique().reshape(1, -1).tolist()[0]"
   ],
   "metadata": {
    "collapsed": false,
    "ExecuteTime": {
     "start_time": "2023-05-27T22:15:40.387202Z",
     "end_time": "2023-05-27T22:15:40.426561Z"
    }
   }
  },
  {
   "cell_type": "code",
   "execution_count": 91,
   "outputs": [
    {
     "data": {
      "text/plain": "NearestNeighbors(n_neighbors=30, radius=50)",
      "text/html": "<style>#sk-container-id-3 {color: black;background-color: white;}#sk-container-id-3 pre{padding: 0;}#sk-container-id-3 div.sk-toggleable {background-color: white;}#sk-container-id-3 label.sk-toggleable__label {cursor: pointer;display: block;width: 100%;margin-bottom: 0;padding: 0.3em;box-sizing: border-box;text-align: center;}#sk-container-id-3 label.sk-toggleable__label-arrow:before {content: \"▸\";float: left;margin-right: 0.25em;color: #696969;}#sk-container-id-3 label.sk-toggleable__label-arrow:hover:before {color: black;}#sk-container-id-3 div.sk-estimator:hover label.sk-toggleable__label-arrow:before {color: black;}#sk-container-id-3 div.sk-toggleable__content {max-height: 0;max-width: 0;overflow: hidden;text-align: left;background-color: #f0f8ff;}#sk-container-id-3 div.sk-toggleable__content pre {margin: 0.2em;color: black;border-radius: 0.25em;background-color: #f0f8ff;}#sk-container-id-3 input.sk-toggleable__control:checked~div.sk-toggleable__content {max-height: 200px;max-width: 100%;overflow: auto;}#sk-container-id-3 input.sk-toggleable__control:checked~label.sk-toggleable__label-arrow:before {content: \"▾\";}#sk-container-id-3 div.sk-estimator input.sk-toggleable__control:checked~label.sk-toggleable__label {background-color: #d4ebff;}#sk-container-id-3 div.sk-label input.sk-toggleable__control:checked~label.sk-toggleable__label {background-color: #d4ebff;}#sk-container-id-3 input.sk-hidden--visually {border: 0;clip: rect(1px 1px 1px 1px);clip: rect(1px, 1px, 1px, 1px);height: 1px;margin: -1px;overflow: hidden;padding: 0;position: absolute;width: 1px;}#sk-container-id-3 div.sk-estimator {font-family: monospace;background-color: #f0f8ff;border: 1px dotted black;border-radius: 0.25em;box-sizing: border-box;margin-bottom: 0.5em;}#sk-container-id-3 div.sk-estimator:hover {background-color: #d4ebff;}#sk-container-id-3 div.sk-parallel-item::after {content: \"\";width: 100%;border-bottom: 1px solid gray;flex-grow: 1;}#sk-container-id-3 div.sk-label:hover label.sk-toggleable__label {background-color: #d4ebff;}#sk-container-id-3 div.sk-serial::before {content: \"\";position: absolute;border-left: 1px solid gray;box-sizing: border-box;top: 0;bottom: 0;left: 50%;z-index: 0;}#sk-container-id-3 div.sk-serial {display: flex;flex-direction: column;align-items: center;background-color: white;padding-right: 0.2em;padding-left: 0.2em;position: relative;}#sk-container-id-3 div.sk-item {position: relative;z-index: 1;}#sk-container-id-3 div.sk-parallel {display: flex;align-items: stretch;justify-content: center;background-color: white;position: relative;}#sk-container-id-3 div.sk-item::before, #sk-container-id-3 div.sk-parallel-item::before {content: \"\";position: absolute;border-left: 1px solid gray;box-sizing: border-box;top: 0;bottom: 0;left: 50%;z-index: -1;}#sk-container-id-3 div.sk-parallel-item {display: flex;flex-direction: column;z-index: 1;position: relative;background-color: white;}#sk-container-id-3 div.sk-parallel-item:first-child::after {align-self: flex-end;width: 50%;}#sk-container-id-3 div.sk-parallel-item:last-child::after {align-self: flex-start;width: 50%;}#sk-container-id-3 div.sk-parallel-item:only-child::after {width: 0;}#sk-container-id-3 div.sk-dashed-wrapped {border: 1px dashed gray;margin: 0 0.4em 0.5em 0.4em;box-sizing: border-box;padding-bottom: 0.4em;background-color: white;}#sk-container-id-3 div.sk-label label {font-family: monospace;font-weight: bold;display: inline-block;line-height: 1.2em;}#sk-container-id-3 div.sk-label-container {text-align: center;}#sk-container-id-3 div.sk-container {/* jupyter's `normalize.less` sets `[hidden] { display: none; }` but bootstrap.min.css set `[hidden] { display: none !important; }` so we also need the `!important` here to be able to override the default hidden behavior on the sphinx rendered scikit-learn.org. See: https://github.com/scikit-learn/scikit-learn/issues/21755 */display: inline-block !important;position: relative;}#sk-container-id-3 div.sk-text-repr-fallback {display: none;}</style><div id=\"sk-container-id-3\" class=\"sk-top-container\"><div class=\"sk-text-repr-fallback\"><pre>NearestNeighbors(n_neighbors=30, radius=50)</pre><b>In a Jupyter environment, please rerun this cell to show the HTML representation or trust the notebook. <br />On GitHub, the HTML representation is unable to render, please try loading this page with nbviewer.org.</b></div><div class=\"sk-container\" hidden><div class=\"sk-item\"><div class=\"sk-estimator sk-toggleable\"><input class=\"sk-toggleable__control sk-hidden--visually\" id=\"sk-estimator-id-3\" type=\"checkbox\" checked><label for=\"sk-estimator-id-3\" class=\"sk-toggleable__label sk-toggleable__label-arrow\">NearestNeighbors</label><div class=\"sk-toggleable__content\"><pre>NearestNeighbors(n_neighbors=30, radius=50)</pre></div></div></div></div></div>"
     },
     "execution_count": 91,
     "metadata": {},
     "output_type": "execute_result"
    }
   ],
   "source": [
    "neigh_groups = NearestNeighbors(n_neighbors=30, radius=50)\n",
    "neigh_groups.fit(pca_groups[pca_groups.group_id.isin(group_to_recommend)].drop(columns=['group_id']))\n",
    "\n",
    "neigh_users = NearestNeighbors(n_neighbors=30, radius=50)\n",
    "neigh_users.fit(pca_users.drop(columns=['user_id']))"
   ],
   "metadata": {
    "collapsed": false,
    "ExecuteTime": {
     "start_time": "2023-05-27T17:01:56.278523Z",
     "end_time": "2023-05-27T17:01:56.372275Z"
    }
   }
  },
  {
   "cell_type": "code",
   "execution_count": 92,
   "outputs": [],
   "source": [
    "with open(\"research/models/neigh_users.pkl\", \"wb\") as f:\n",
    "    pickle.dump(neigh_users, f)\n",
    "\n",
    "with open(\"research/models/neigh_groups.pkl\", \"wb\") as f:\n",
    "    pickle.dump(neigh_groups, f)"
   ],
   "metadata": {
    "collapsed": false,
    "ExecuteTime": {
     "start_time": "2023-05-27T17:01:56.356650Z",
     "end_time": "2023-05-27T17:01:56.459004Z"
    }
   }
  },
  {
   "cell_type": "code",
   "execution_count": 93,
   "outputs": [],
   "source": [
    "def get_similar_items(user_items):\n",
    "    x = pca_groups[pca_groups.group_id.isin(user_items)].drop(columns=['group_id'])\n",
    "    indexes = neigh_groups.kneighbors(x, n_neighbors=30, return_distance=False).reshape(1, -1).tolist()[0]\n",
    "    similar_items = pca_groups.iloc[indexes]['group_id'].drop_duplicates().values\n",
    "    return similar_items\n",
    "\n",
    "def get_similar_users(user):\n",
    "    x = pca_users[pca_users.user_id.isin([user])].drop(columns=['user_id'])\n",
    "    indexes = neigh_users.kneighbors(x, n_neighbors=30, return_distance=False).reshape(1, -1).tolist()[0]\n",
    "    similar_users = pca_users.iloc[indexes]['user_id'].drop_duplicates().values\n",
    "    return similar_users"
   ],
   "metadata": {
    "collapsed": false,
    "ExecuteTime": {
     "start_time": "2023-05-27T17:01:56.459004Z",
     "end_time": "2023-05-27T17:01:56.491009Z"
    }
   }
  },
  {
   "cell_type": "code",
   "execution_count": 94,
   "outputs": [],
   "source": [
    "reader = Reader(rating_scale=(1, 94))\n",
    "\n",
    "data = Dataset.load_from_df(train[['user_id', 'group_id', 'number_of_lessons']], reader)\n",
    "Set = data.build_full_trainset()"
   ],
   "metadata": {
    "collapsed": false,
    "ExecuteTime": {
     "start_time": "2023-05-27T17:01:56.475008Z",
     "end_time": "2023-05-27T17:01:58.368787Z"
    }
   }
  },
  {
   "cell_type": "code",
   "execution_count": 95,
   "outputs": [],
   "source": [
    "popular_groups = list(train[train['group_id'].isin(group_to_recommend)].groupby('group_id')['user_id'].count()[:10].index)"
   ],
   "metadata": {
    "collapsed": false,
    "ExecuteTime": {
     "start_time": "2023-05-27T17:01:58.368787Z",
     "end_time": "2023-05-27T17:01:58.446913Z"
    }
   }
  },
  {
   "cell_type": "code",
   "execution_count": 96,
   "outputs": [],
   "source": [
    "def predict_for_users(users, recommend_groups, k=10, exclude_user_items=False, use_similar_items=False):\n",
    "    predicted_groups = []\n",
    "    fillValue = Set.global_mean\n",
    "\n",
    "    for uid in tqdm(users):\n",
    "        if uid not in [Set.to_raw_uid(uid) for uid in Set.all_users()]:\n",
    "            predictions = [(uid, group, 1) for group in popular_groups]\n",
    "        else:\n",
    "            uid = Set.to_inner_uid(uid)\n",
    "            objects_to_predict = []\n",
    "            user_item_ratings = Set.ur[uid]\n",
    "            user_items = [item for (item,_) in (user_item_ratings)]\n",
    "            if use_similar_items:\n",
    "                similar_items = get_similar_items([Set.to_raw_iid(item_id) for item_id in user_items])\n",
    "                used_items = [Set.to_inner_iid(item_id) for item_id in similar_items if item_id in recommend_groups]\n",
    "            else:\n",
    "                used_items = [item for item in Set.all_items() if Set.to_raw_uid(item) if Set.to_raw_iid(item) in group_to_recommend]\n",
    "            for iid in used_items:\n",
    "                # get a prediction for specific users and items.\n",
    "                if exclude_user_items:\n",
    "                    if iid not in user_items:\n",
    "                        objects_to_predict.append((Set.to_raw_uid(uid), Set.to_raw_iid(iid), fillValue))\n",
    "                else:\n",
    "                    objects_to_predict.append((Set.to_raw_uid(uid), Set.to_raw_iid(iid), fillValue))\n",
    "            predictions = algo.test(objects_to_predict)\n",
    "            predictions = sorted(predictions, key=lambda x: x.est, reverse=True)\n",
    "            predictions = [(value.uid, value.iid, value.est) for value in predictions[:k]]\n",
    "            if len(predictions) < k:\n",
    "                used_items = [item for item in Set.all_items() if Set.to_raw_uid(item) if Set.to_raw_iid(item) in group_to_recommend]\n",
    "                for iid in used_items:\n",
    "                    # get a prediction for specific users and items.\n",
    "                    if exclude_user_items:\n",
    "                        if iid not in user_items:\n",
    "                            objects_to_predict.append((Set.to_raw_uid(uid), Set.to_raw_iid(iid), fillValue))\n",
    "                    else:\n",
    "                        objects_to_predict.append((Set.to_raw_uid(uid), Set.to_raw_iid(iid), fillValue))\n",
    "                fill_predictions = algo.test(objects_to_predict)\n",
    "                fill_predictions = sorted(fill_predictions, key=lambda x: x.est, reverse=True)\n",
    "                fill_predictions = [(value.uid, value.iid, value.est) for value in fill_predictions if value not in predictions]\n",
    "                predictions += fill_predictions[:k - len(predictions)]\n",
    "        predicted_groups.append(predictions)\n",
    "    return predicted_groups"
   ],
   "metadata": {
    "collapsed": false,
    "ExecuteTime": {
     "start_time": "2023-05-27T17:01:58.415663Z",
     "end_time": "2023-05-27T17:01:58.446913Z"
    }
   }
  },
  {
   "cell_type": "code",
   "execution_count": 97,
   "outputs": [],
   "source": [
    "test = pd.read_csv('research/raw_data/test.csv')\n",
    "users_to_score = test.rename(columns={'уникальный номер участника': 'user_id'})['user_id'].values"
   ],
   "metadata": {
    "collapsed": false,
    "ExecuteTime": {
     "start_time": "2023-05-27T17:01:58.446913Z",
     "end_time": "2023-05-27T17:01:58.462536Z"
    }
   }
  },
  {
   "cell_type": "code",
   "execution_count": 98,
   "outputs": [
    {
     "data": {
      "text/plain": "  0%|          | 0/200 [00:00<?, ?it/s]",
      "application/vnd.jupyter.widget-view+json": {
       "version_major": 2,
       "version_minor": 0,
       "model_id": "a15a82c6cc724fd9a82e9760986c099f"
      }
     },
     "metadata": {},
     "output_type": "display_data"
    }
   ],
   "source": [
    "predicted_groups = predict_for_users(users_to_score, group_to_recommend, k=10, exclude_user_items=True, use_similar_items=True)"
   ],
   "metadata": {
    "collapsed": false,
    "ExecuteTime": {
     "start_time": "2023-05-27T17:01:58.462536Z",
     "end_time": "2023-05-27T17:03:00.058331Z"
    }
   }
  },
  {
   "cell_type": "code",
   "execution_count": 99,
   "outputs": [],
   "source": [
    "predicted_groups = [[str(i) for u, i, score in predict] for predict in predicted_groups]"
   ],
   "metadata": {
    "collapsed": false,
    "ExecuteTime": {
     "start_time": "2023-05-27T17:03:00.058331Z",
     "end_time": "2023-05-27T17:03:00.073350Z"
    }
   }
  },
  {
   "cell_type": "code",
   "execution_count": 100,
   "outputs": [],
   "source": [
    "predicted_groups = [', '.join(predicted) for predicted in predicted_groups]"
   ],
   "metadata": {
    "collapsed": false,
    "ExecuteTime": {
     "start_time": "2023-05-27T17:03:00.073350Z",
     "end_time": "2023-05-27T17:03:00.089213Z"
    }
   }
  },
  {
   "cell_type": "code",
   "execution_count": 101,
   "outputs": [],
   "source": [
    "test['уникальный номер группы'] = predicted_groups\n",
    "test.to_csv('submission.csv', index=False, sep=';')"
   ],
   "metadata": {
    "collapsed": false,
    "ExecuteTime": {
     "start_time": "2023-05-27T17:03:00.089213Z",
     "end_time": "2023-05-27T17:03:00.105217Z"
    }
   }
  },
  {
   "cell_type": "code",
   "execution_count": 5,
   "outputs": [],
   "source": [
    "groups = pd.read_csv('research/backend_data/groups.csv', sep=';')\n",
    "raw_users = pd.read_csv('research/processed_data_2_stage/users.csv', sep=';')"
   ],
   "metadata": {
    "collapsed": false,
    "ExecuteTime": {
     "start_time": "2023-05-27T23:04:14.699015Z",
     "end_time": "2023-05-27T23:04:15.008872Z"
    }
   }
  },
  {
   "cell_type": "code",
   "execution_count": 39,
   "outputs": [],
   "source": [
    "groups = groups.merge(train.groupby('group_id', as_index=False)['user_id'].count().rename(columns={'user_id': 'popularity'}), how='left', on='group_id').fillna(0)"
   ],
   "metadata": {
    "collapsed": false,
    "ExecuteTime": {
     "start_time": "2023-05-27T22:21:49.466727Z",
     "end_time": "2023-05-27T22:21:49.516205Z"
    }
   }
  },
  {
   "cell_type": "code",
   "execution_count": 103,
   "outputs": [],
   "source": [
    "raw_users.to_csv('research/backend_data/users.csv', sep=';', index=False)"
   ],
   "metadata": {
    "collapsed": false,
    "ExecuteTime": {
     "start_time": "2023-05-27T17:03:00.532867Z",
     "end_time": "2023-05-27T17:03:00.548510Z"
    }
   }
  },
  {
   "cell_type": "markdown",
   "source": [
    "## Get user recommend score for each group"
   ],
   "metadata": {
    "collapsed": false
   }
  },
  {
   "cell_type": "code",
   "execution_count": 104,
   "outputs": [
    {
     "data": {
      "text/plain": "  0%|          | 0/3 [00:00<?, ?it/s]",
      "application/vnd.jupyter.widget-view+json": {
       "version_major": 2,
       "version_minor": 0,
       "model_id": "35ba149d37ba402cb21124870f540330"
      }
     },
     "metadata": {},
     "output_type": "display_data"
    }
   ],
   "source": [
    "predicted_groups = predict_for_users(demo_user_data.user_id.values,\n",
    "                                     group_to_recommend,\n",
    "                                     k=-1,\n",
    "                                     exclude_user_items=True,\n",
    "                                     use_similar_items=False)\n",
    "predicted_groups = [(u, i, score) for predict in predicted_groups for (u, i, score) in predict]"
   ],
   "metadata": {
    "collapsed": false,
    "ExecuteTime": {
     "start_time": "2023-05-27T17:03:00.548510Z",
     "end_time": "2023-05-27T17:03:01.464739Z"
    }
   }
  },
  {
   "cell_type": "code",
   "execution_count": 105,
   "outputs": [],
   "source": [
    "final = pd.DataFrame(predicted_groups, columns=['user_id', 'group_id', 'score'])\n",
    "final.to_csv('research/backend_data/group_scores_to_rank.csv', sep=';', index=False)"
   ],
   "metadata": {
    "collapsed": false,
    "ExecuteTime": {
     "start_time": "2023-05-27T17:03:01.464739Z",
     "end_time": "2023-05-27T17:03:01.488751Z"
    }
   }
  },
  {
   "cell_type": "markdown",
   "source": [
    "## Get recommendations"
   ],
   "metadata": {
    "collapsed": false
   }
  },
  {
   "cell_type": "code",
   "execution_count": 106,
   "outputs": [
    {
     "data": {
      "text/plain": "  0%|          | 0/3 [00:00<?, ?it/s]",
      "application/vnd.jupyter.widget-view+json": {
       "version_major": 2,
       "version_minor": 0,
       "model_id": "de9344777b6c441da2267452a2b8bbd9"
      }
     },
     "metadata": {},
     "output_type": "display_data"
    }
   ],
   "source": [
    "predicted_groups = predict_for_users(demo_user_data.user_id.values,\n",
    "                                     group_to_recommend, k=10,\n",
    "                                     exclude_user_items=True,\n",
    "                                     use_similar_items=True)\n",
    "predicted_groups = [(u, i, score) for predict in predicted_groups for (u, i, score) in predict]"
   ],
   "metadata": {
    "collapsed": false,
    "ExecuteTime": {
     "start_time": "2023-05-27T17:03:01.488751Z",
     "end_time": "2023-05-27T17:03:02.416335Z"
    }
   }
  },
  {
   "cell_type": "code",
   "execution_count": 107,
   "outputs": [],
   "source": [
    "final = pd.DataFrame(predicted_groups, columns=['user_id', 'group_id', 'score'])\n",
    "final.to_csv('research/backend_data/predict_best.csv', sep=';', index=False)"
   ],
   "metadata": {
    "collapsed": false,
    "ExecuteTime": {
     "start_time": "2023-05-27T17:03:02.416335Z",
     "end_time": "2023-05-27T17:03:02.424347Z"
    }
   }
  },
  {
   "cell_type": "markdown",
   "source": [
    "### Predictions to expand interests"
   ],
   "metadata": {
    "collapsed": false
   }
  },
  {
   "cell_type": "code",
   "execution_count": 108,
   "outputs": [
    {
     "data": {
      "text/plain": "  0%|          | 0/3 [00:00<?, ?it/s]",
      "application/vnd.jupyter.widget-view+json": {
       "version_major": 2,
       "version_minor": 0,
       "model_id": "888f10525bcb4cb59f04a1ccf09a211a"
      }
     },
     "metadata": {},
     "output_type": "display_data"
    }
   ],
   "source": [
    "predicted_groups = predict_for_users(demo_user_data.user_id.values,\n",
    "                                     group_to_recommend, k=300,\n",
    "                                     exclude_user_items=True, use_similar_items=True)\n",
    "predicted_groups = [(u, i, score) for predict in predicted_groups for (u, i, score) in predict[-10:]]"
   ],
   "metadata": {
    "collapsed": false,
    "ExecuteTime": {
     "start_time": "2023-05-27T17:03:02.424347Z",
     "end_time": "2023-05-27T17:03:03.451792Z"
    }
   }
  },
  {
   "cell_type": "code",
   "execution_count": 109,
   "outputs": [],
   "source": [
    "final = pd.DataFrame(predicted_groups, columns=['user_id', 'group_id', 'score'])\n",
    "final.to_csv('research/backend_data/predict_to_expand.csv', sep=';', index=False)"
   ],
   "metadata": {
    "collapsed": false,
    "ExecuteTime": {
     "start_time": "2023-05-27T17:03:03.451792Z",
     "end_time": "2023-05-27T17:03:03.467846Z"
    }
   }
  },
  {
   "cell_type": "code",
   "execution_count": null,
   "outputs": [],
   "source": [],
   "metadata": {
    "collapsed": false
   }
  }
 ],
 "metadata": {
  "kernelspec": {
   "display_name": "Python 3",
   "language": "python",
   "name": "python3"
  },
  "language_info": {
   "codemirror_mode": {
    "name": "ipython",
    "version": 2
   },
   "file_extension": ".py",
   "mimetype": "text/x-python",
   "name": "python",
   "nbconvert_exporter": "python",
   "pygments_lexer": "ipython2",
   "version": "2.7.6"
  }
 },
 "nbformat": 4,
 "nbformat_minor": 0
}
